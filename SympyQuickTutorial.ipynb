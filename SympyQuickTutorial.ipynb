{
 "cells": [
  {
   "cell_type": "markdown",
   "metadata": {},
   "source": [
    "# Sympy tutorial"
   ]
  },
  {
   "cell_type": "markdown",
   "metadata": {},
   "source": [
    "Import sympy, and force pretty print unicode results"
   ]
  },
  {
   "cell_type": "code",
   "execution_count": 14,
   "metadata": {},
   "outputs": [],
   "source": [
    "from sympy import *\n",
    "init_printing(use_unicode=True)  #prints nice unicode outputs"
   ]
  },
  {
   "cell_type": "markdown",
   "metadata": {},
   "source": [
    "In sympy, variables are symbols, must be declared by this function, and are not directly evaluated."
   ]
  },
  {
   "cell_type": "code",
   "execution_count": 72,
   "metadata": {},
   "outputs": [
    {
     "data": {
      "text/plain": [
       "sympy.core.symbol.Symbol"
      ]
     },
     "execution_count": 72,
     "metadata": {},
     "output_type": "execute_result"
    }
   ],
   "source": [
    "x,y,z,a,b = symbols(\"x y z a b\")   \n",
    "type(x)"
   ]
  },
  {
   "cell_type": "markdown",
   "metadata": {},
   "source": [
    "symbolic expression can be assigned to python variables"
   ]
  },
  {
   "cell_type": "code",
   "execution_count": 16,
   "metadata": {},
   "outputs": [
    {
     "data": {
      "image/png": "[encoded data removed]",
      "text/latex": [
       "$$0$$"
      ],
      "text/plain": [
       "0"
      ]
     },
     "execution_count": 16,
     "metadata": {},
     "output_type": "execute_result"
    }
   ],
   "source": [
    "a = (x + 1)**2\n",
    "b = x**2 + 2*x + 1\n",
    "simplify(a - b)  #used to simplify results. see below, Simplify section"
   ]
  },
  {
   "cell_type": "code",
   "execution_count": 17,
   "metadata": {},
   "outputs": [
    {
     "data": {
      "image/png": "[encoded data removed]",
      "text/latex": [
       "$$- x^{2} + 2 x + \\left(x + 1\\right)^{2} - 1$$"
      ],
      "text/plain": [
       "   2                2    \n",
       "- x  + 2⋅x + (x + 1)  - 1"
      ]
     },
     "execution_count": 17,
     "metadata": {},
     "output_type": "execute_result"
    }
   ],
   "source": [
    "c = x**2 - 2*x + 1\n",
    "a - c\n",
    "#example of not simplify()'ed result"
   ]
  },
  {
   "cell_type": "markdown",
   "metadata": {},
   "source": [
    "Be careful! exponent notations is (as in python) logic XOR!! use double star."
   ]
  },
  {
   "cell_type": "code",
   "execution_count": 18,
   "metadata": {},
   "outputs": [
    {
     "data": {
      "image/png": "[encoded data removed]",
      "text/latex": [
       "$$x \\veebar y$$"
      ],
      "text/plain": [
       "x ⊻ y"
      ]
     },
     "execution_count": 18,
     "metadata": {},
     "output_type": "execute_result"
    }
   ],
   "source": [
    "x^y"
   ]
  },
  {
   "cell_type": "markdown",
   "metadata": {},
   "source": [
    "normal fractions are evaluated as floats, by forcing numbers into Sympy Integers, you can create Rationals,or just declare them directly."
   ]
  },
  {
   "cell_type": "code",
   "execution_count": 19,
   "metadata": {},
   "outputs": [
    {
     "data": {
      "text/plain": [
       "(float, 0.3333333333333333)"
      ]
     },
     "execution_count": 19,
     "metadata": {},
     "output_type": "execute_result"
    }
   ],
   "source": [
    "type(1/3), 1/3 "
   ]
  },
  {
   "cell_type": "code",
   "execution_count": 20,
   "metadata": {},
   "outputs": [
    {
     "data": {
      "text/plain": [
       "(sympy.core.numbers.Rational, 1/3)"
      ]
     },
     "execution_count": 20,
     "metadata": {},
     "output_type": "execute_result"
    }
   ],
   "source": [
    "type(Integer(1)/Integer(3)), Integer(1)/Integer(3) "
   ]
  },
  {
   "cell_type": "code",
   "execution_count": 21,
   "metadata": {},
   "outputs": [
    {
     "data": {
      "image/png": "[encoded data removed]",
      "text/latex": [
       "$$\\frac{5}{22}$$"
      ],
      "text/plain": [
       "5/22"
      ]
     },
     "execution_count": 21,
     "metadata": {},
     "output_type": "execute_result"
    }
   ],
   "source": [
    "Rational(10,44) "
   ]
  },
  {
   "cell_type": "markdown",
   "metadata": {},
   "source": [
    "Substitutions. Use .subs(arg1, arg2) to substitute expressions with other subexpression, and to evaluate. Subs returns a new expression, does not modify it in-place, because *SymPy objects are IMMUTABLE*. To perform multiple substitutions, pass a list of [(old, new), (old, new)], that are applied in order (see below).\n"
   ]
  },
  {
   "cell_type": "code",
   "execution_count": 22,
   "metadata": {},
   "outputs": [
    {
     "data": {
      "image/png": "[encoded data removed]",
      "text/latex": [
       "$$x^{y}$$"
      ],
      "text/plain": [
       " y\n",
       "x "
      ]
     },
     "execution_count": 22,
     "metadata": {},
     "output_type": "execute_result"
    }
   ],
   "source": [
    "expr = x**y\n",
    "expr"
   ]
  },
  {
   "cell_type": "code",
   "execution_count": 23,
   "metadata": {},
   "outputs": [
    {
     "data": {
      "image/png": "[encoded data removed]",
      "text/latex": [
       "$$x^{4 x^{2}}$$"
      ],
      "text/plain": [
       "    2\n",
       " 4⋅x \n",
       "x    "
      ]
     },
     "execution_count": 23,
     "metadata": {},
     "output_type": "execute_result"
    }
   ],
   "source": [
    "expr = expr.subs(y,4*x**2)\n",
    "expr"
   ]
  },
  {
   "cell_type": "code",
   "execution_count": 24,
   "metadata": {},
   "outputs": [
    {
     "data": {
      "image/png": "[encoded data removed]",
      "text/latex": [
       "$$65536$$"
      ],
      "text/plain": [
       "65536"
      ]
     },
     "execution_count": 24,
     "metadata": {},
     "output_type": "execute_result"
    }
   ],
   "source": [
    "expr = expr.subs(x,2)\n",
    "expr"
   ]
  },
  {
   "cell_type": "code",
   "execution_count": 26,
   "metadata": {},
   "outputs": [
    {
     "data": {
      "image/png": "[encoded data removed]",
      "text/latex": [
       "$$\\left(3 x + 2 \\cos{\\left (y \\right )}\\right)^{\\cos{\\left (y \\right )}}$$"
      ],
      "text/plain": [
       "                cos(y)\n",
       "(3⋅x + 2⋅cos(y))      "
      ]
     },
     "execution_count": 26,
     "metadata": {},
     "output_type": "execute_result"
    }
   ],
   "source": [
    "expr = x**y\n",
    "expr.subs([(x, 3*x+2*y), (y, cos(y))])"
   ]
  },
  {
   "cell_type": "code",
   "execution_count": 28,
   "metadata": {},
   "outputs": [
    {
     "data": {
      "image/png": "[encoded data removed]",
      "text/latex": [
       "$$\\left(3 x + 2 y\\right)^{\\cos{\\left (y \\right )}}$$"
      ],
      "text/plain": [
       "           cos(y)\n",
       "(3⋅x + 2⋅y)      "
      ]
     },
     "execution_count": 28,
     "metadata": {},
     "output_type": "execute_result"
    }
   ],
   "source": [
    "expr = x**y\n",
    "expr.subs([(y, cos(y)), (x, 3*x+2*y)])  #reversed order, the first y is not changed"
   ]
  },
  {
   "cell_type": "markdown",
   "metadata": {},
   "source": [
    "with sympify() you can convert a string in a simpy expression. \n",
    "\n",
    "BE VERY CAREFUL!! sympify uses eval(). NEVER use it on unsanitized input! (i.e. eval() can  import os, access to the kernel, segfault the C interpreter, and create any kind of possible damage)"
   ]
  },
  {
   "cell_type": "code",
   "execution_count": 29,
   "metadata": {},
   "outputs": [
    {
     "data": {
      "image/png": "[encoded data removed]",
      "text/latex": [
       "$$x^{2} + 3 x - \\frac{1}{2}$$"
      ],
      "text/plain": [
       " 2         1\n",
       "x  + 3⋅x - ─\n",
       "           2"
      ]
     },
     "execution_count": 29,
     "metadata": {},
     "output_type": "execute_result"
    }
   ],
   "source": [
    "str_exp = \"x**2 + 3*x - 1/2\"\n",
    "expr = sympify(str_exp)\n",
    "expr"
   ]
  },
  {
   "cell_type": "markdown",
   "metadata": {},
   "source": [
    "To evaluate numerical expressions into floats, use .evalf(n), where n is the number of decimals (default n=15)"
   ]
  },
  {
   "cell_type": "code",
   "execution_count": 30,
   "metadata": {},
   "outputs": [
    {
     "data": {
      "image/png": "[encoded data removed]",
      "text/latex": [
       "$$2 \\sqrt{2}$$"
      ],
      "text/plain": [
       "2⋅√2"
      ]
     },
     "execution_count": 30,
     "metadata": {},
     "output_type": "execute_result"
    }
   ],
   "source": [
    "expr = sqrt(8)\n",
    "expr"
   ]
  },
  {
   "cell_type": "code",
   "execution_count": 31,
   "metadata": {},
   "outputs": [
    {
     "data": {
      "image/png": "[encoded data removed]",
      "text/latex": [
       "$$2.82842712474619$$"
      ],
      "text/plain": [
       "2.82842712474619"
      ]
     },
     "execution_count": 31,
     "metadata": {},
     "output_type": "execute_result"
    }
   ],
   "source": [
    "expr.evalf()"
   ]
  },
  {
   "cell_type": "code",
   "execution_count": 32,
   "metadata": {},
   "outputs": [
    {
     "data": {
      "image/png": "[encoded data removed]",
      "text/latex": [
       "$$2.8284271247461900976033774484193961571393437507539$$"
      ],
      "text/plain": [
       "2.8284271247461900976033774484193961571393437507539"
      ]
     },
     "execution_count": 32,
     "metadata": {},
     "output_type": "execute_result"
    }
   ],
   "source": [
    "expr.evalf(50)"
   ]
  },
  {
   "cell_type": "markdown",
   "metadata": {},
   "source": [
    "# lambdify()\n",
    "\n",
    "While subs() and .evalf() are good for simple evaluations, you will need to evaluate your expression in many points. Doing it in Sympy is slow and painful, and lambdify can convert your symbolic  sympy expression into something that can be actually evaluated, usually in Numpy or Scipy.\n",
    "\n",
    "The example below uses numpy. You can use other libraries, i.e. the standard \"Math\".\n",
    "\n",
    "(NOTE! Also lambdify uses eval(). Never use on unsantized input!)"
   ]
  },
  {
   "cell_type": "code",
   "execution_count": 33,
   "metadata": {},
   "outputs": [
    {
     "data": {
      "text/plain": [
       "array([0, 1, 2, 3, 4, 5, 6, 7, 8, 9])"
      ]
     },
     "execution_count": 33,
     "metadata": {},
     "output_type": "execute_result"
    }
   ],
   "source": [
    "import numpy\n",
    "a = numpy.arange(10)\n",
    "a"
   ]
  },
  {
   "cell_type": "code",
   "execution_count": 34,
   "metadata": {},
   "outputs": [
    {
     "data": {
      "image/png": "[encoded data removed]",
      "text/latex": [
       "$$\\sin{\\left (x \\right )}$$"
      ],
      "text/plain": [
       "sin(x)"
      ]
     },
     "execution_count": 34,
     "metadata": {},
     "output_type": "execute_result"
    }
   ],
   "source": [
    "expr = sin(x)\n",
    "expr"
   ]
  },
  {
   "cell_type": "code",
   "execution_count": 35,
   "metadata": {},
   "outputs": [
    {
     "data": {
      "text/plain": [
       "array([ 0.        ,  0.84147098,  0.90929743,  0.14112001, -0.7568025 ,\n",
       "       -0.95892427, -0.2794155 ,  0.6569866 ,  0.98935825,  0.41211849])"
      ]
     },
     "execution_count": 35,
     "metadata": {},
     "output_type": "execute_result"
    }
   ],
   "source": [
    "f = lambdify(x, expr, \"numpy\")\n",
    "f(a)"
   ]
  },
  {
   "cell_type": "markdown",
   "metadata": {},
   "source": [
    "# Pretty Printing\n",
    "\n",
    "Just use the init_printing() function. MathJax LaTeX is used in notebooks, while common unicode will be used in consoles, if available.\n",
    "\n",
    "A useful command is init_session(), that as you can read below, start init_printing() after importing libraries and initializing some common symbols."
   ]
  },
  {
   "cell_type": "code",
   "execution_count": 36,
   "metadata": {},
   "outputs": [
    {
     "name": "stdout",
     "output_type": "stream",
     "text": [
      "IPython console for SymPy 1.2 (Python 3.7.0-64-bit) (ground types: gmpy)\n",
      "\n",
      "These commands were executed:\n",
      ">>> from __future__ import division\n",
      ">>> from sympy import *\n",
      ">>> x, y, z, t = symbols('x y z t')\n",
      ">>> k, m, n = symbols('k m n', integer=True)\n",
      ">>> f, g, h = symbols('f g h', cls=Function)\n",
      ">>> init_printing()\n",
      "\n",
      "Documentation can be found at http://docs.sympy.org/1.2/\n",
      "\n"
     ]
    }
   ],
   "source": [
    "init_session()"
   ]
  },
  {
   "cell_type": "markdown",
   "metadata": {},
   "source": [
    "fun thing: there is also an ASCII pretty printer, that you do not want, probably:"
   ]
  },
  {
   "cell_type": "code",
   "execution_count": 37,
   "metadata": {
    "scrolled": true
   },
   "outputs": [
    {
     "name": "stdout",
     "output_type": "stream",
     "text": [
      "  /          \n",
      " |           \n",
      " |     ___   \n",
      " |    / 1    \n",
      " |   /  -  dx\n",
      " | \\/   x    \n",
      " |           \n",
      "/            \n"
     ]
    }
   ],
   "source": [
    "pprint(Integral(sqrt(1/x), x), use_unicode=False)"
   ]
  },
  {
   "cell_type": "markdown",
   "metadata": {},
   "source": [
    "To retrieve LaTeX markup, you can use print(latex(...)). Similarly, dotprint() can retrieve dot format, that can be rendered in Graphviz (not shown)."
   ]
  },
  {
   "cell_type": "code",
   "execution_count": 38,
   "metadata": {},
   "outputs": [
    {
     "name": "stdout",
     "output_type": "stream",
     "text": [
      "\\int \\sqrt{\\frac{1}{x}}\\, dx\n"
     ]
    }
   ],
   "source": [
    "print(latex(Integral(sqrt(1/x), x)))"
   ]
  },
  {
   "cell_type": "markdown",
   "metadata": {},
   "source": [
    "# simplifications\n",
    "\n",
    "There are many ways to perform different kind of semplifications. The general function is simplify, that we have already seen, that tries to apply of these function in the best way to reach the simplest form. Some examples:\n"
   ]
  },
  {
   "cell_type": "code",
   "execution_count": 39,
   "metadata": {},
   "outputs": [
    {
     "data": {
      "image/png": "[encoded data removed]",
      "text/latex": [
       "$$1$$"
      ],
      "text/plain": [
       "1"
      ]
     },
     "execution_count": 39,
     "metadata": {},
     "output_type": "execute_result"
    }
   ],
   "source": [
    "simplify(sin(x)**2 + cos(x)**2 )"
   ]
  },
  {
   "cell_type": "code",
   "execution_count": 40,
   "metadata": {},
   "outputs": [
    {
     "data": {
      "image/png": "[encoded data removed]",
      "text/latex": [
       "$$x - 1$$"
      ],
      "text/plain": [
       "x - 1"
      ]
     },
     "execution_count": 40,
     "metadata": {},
     "output_type": "execute_result"
    }
   ],
   "source": [
    "simplify((x**3 + x**2 - x - 1)/(x**2 + 2*x + 1))"
   ]
  },
  {
   "cell_type": "code",
   "execution_count": 41,
   "metadata": {},
   "outputs": [
    {
     "data": {
      "image/png": "[encoded data removed]",
      "text/latex": [
       "$$\\left(x - 2\\right) \\left(x - 1\\right)$$"
      ],
      "text/plain": [
       "(x - 2)⋅(x - 1)"
      ]
     },
     "execution_count": 41,
     "metadata": {},
     "output_type": "execute_result"
    }
   ],
   "source": [
    "simplify(gamma(x)/gamma(x - 2))  #gamma function"
   ]
  },
  {
   "cell_type": "markdown",
   "metadata": {},
   "source": [
    "There is a limit. Simplify won't factor expression. There is factor() for that."
   ]
  },
  {
   "cell_type": "code",
   "execution_count": 42,
   "metadata": {},
   "outputs": [
    {
     "data": {
      "image/png": "[encoded data removed]",
      "text/latex": [
       "$$x^{2} + 2 x + 1$$"
      ],
      "text/plain": [
       " 2          \n",
       "x  + 2⋅x + 1"
      ]
     },
     "execution_count": 42,
     "metadata": {},
     "output_type": "execute_result"
    }
   ],
   "source": [
    "simplify(x**2+2*x+1)"
   ]
  },
  {
   "cell_type": "code",
   "execution_count": 43,
   "metadata": {},
   "outputs": [
    {
     "data": {
      "image/png": "[encoded data removed]",
      "text/latex": [
       "$$\\left(x + 1\\right)^{2}$$"
      ],
      "text/plain": [
       "       2\n",
       "(x + 1) "
      ]
     },
     "execution_count": 43,
     "metadata": {},
     "output_type": "execute_result"
    }
   ],
   "source": [
    "factor(x**2+2*x+1)"
   ]
  },
  {
   "cell_type": "markdown",
   "metadata": {},
   "source": [
    "expand() is used to expand (obviously), and includes a simplification with sum of common terms\n"
   ]
  },
  {
   "cell_type": "code",
   "execution_count": 44,
   "metadata": {},
   "outputs": [
    {
     "data": {
      "image/png": "[encoded data removed]",
      "text/latex": [
       "$$x^{3} + 3 x^{2} + 3 x + 1$$"
      ],
      "text/plain": [
       " 3      2          \n",
       "x  + 3⋅x  + 3⋅x + 1"
      ]
     },
     "execution_count": 44,
     "metadata": {},
     "output_type": "execute_result"
    }
   ],
   "source": [
    "expand((x+1)**3)"
   ]
  },
  {
   "cell_type": "code",
   "execution_count": 45,
   "metadata": {},
   "outputs": [
    {
     "data": {
      "image/png": "[encoded data removed]",
      "text/latex": [
       "$$x^{3} + 5 x^{2} - x - 5$$"
      ],
      "text/plain": [
       " 3      2        \n",
       "x  + 5⋅x  - x - 5"
      ]
     },
     "execution_count": 45,
     "metadata": {},
     "output_type": "execute_result"
    }
   ],
   "source": [
    "expand((x+5)*(x+1)*(x-1))"
   ]
  },
  {
   "cell_type": "code",
   "execution_count": 46,
   "metadata": {},
   "outputs": [
    {
     "data": {
      "image/png": "[encoded data removed]",
      "text/latex": [
       "$$-2$$"
      ],
      "text/plain": [
       "-2"
      ]
     },
     "execution_count": 46,
     "metadata": {},
     "output_type": "execute_result"
    }
   ],
   "source": [
    "#example of elimination\n",
    "expand((x+1)*(x-2) - (x-1)*x)"
   ]
  },
  {
   "cell_type": "markdown",
   "metadata": {},
   "source": [
    "# factor()\n",
    "\n",
    "Factor provides a factorization of expressions. A useful version, factor_list(), returns the factors in an array of tuples."
   ]
  },
  {
   "cell_type": "code",
   "execution_count": 47,
   "metadata": {},
   "outputs": [
    {
     "data": {
      "image/png": "[encoded data removed]",
      "text/latex": [
       "$$\\left(x - 1\\right) \\left(x^{2} + 1\\right)$$"
      ],
      "text/plain": [
       "        ⎛ 2    ⎞\n",
       "(x - 1)⋅⎝x  + 1⎠"
      ]
     },
     "execution_count": 47,
     "metadata": {},
     "output_type": "execute_result"
    }
   ],
   "source": [
    "factor(x**3 - x**2 + x -1)"
   ]
  },
  {
   "cell_type": "code",
   "execution_count": 48,
   "metadata": {},
   "outputs": [
    {
     "data": {
      "image/png": "[encoded data removed]",
      "text/latex": [
       "$$z \\left(x + 2 y\\right)^{2}$$"
      ],
      "text/plain": [
       "           2\n",
       "z⋅(x + 2⋅y) "
      ]
     },
     "execution_count": 48,
     "metadata": {},
     "output_type": "execute_result"
    }
   ],
   "source": [
    "factor(x**2*z + 4*x*y*z + 4*y**2*z)"
   ]
  },
  {
   "cell_type": "code",
   "execution_count": 49,
   "metadata": {},
   "outputs": [
    {
     "data": {
      "image/png": "[encoded data removed]",
      "text/latex": [
       "$$\\left ( 1, \\quad \\left [ \\left ( z, \\quad 1\\right ), \\quad \\left ( x + 2 y, \\quad 2\\right )\\right ]\\right )$$"
      ],
      "text/plain": [
       "(1, [(z, 1), (x + 2⋅y, 2)])"
      ]
     },
     "execution_count": 49,
     "metadata": {},
     "output_type": "execute_result"
    }
   ],
   "source": [
    "factor_list(x**2*z + 4*x*y*z + 4*y**2*z)"
   ]
  },
  {
   "cell_type": "code",
   "execution_count": 50,
   "metadata": {},
   "outputs": [
    {
     "data": {
      "image/png": "[encoded data removed]",
      "text/latex": [
       "$$\\left(\\sin{\\left (x \\right )} + \\cos{\\left (x \\right )}\\right)^{2}$$"
      ],
      "text/plain": [
       "                 2\n",
       "(sin(x) + cos(x)) "
      ]
     },
     "execution_count": 50,
     "metadata": {},
     "output_type": "execute_result"
    }
   ],
   "source": [
    "factor(cos(x)**2 + 2*cos(x)*sin(x) + sin(x)**2)\n"
   ]
  },
  {
   "cell_type": "markdown",
   "metadata": {},
   "source": [
    "# collect()  and .coeff()\n",
    "\n",
    "Collects common powers of a term in an expression. Useful when used with .coeff()\n"
   ]
  },
  {
   "cell_type": "code",
   "execution_count": 51,
   "metadata": {},
   "outputs": [
    {
     "data": {
      "image/png": "[encoded data removed]",
      "text/latex": [
       "$$x^{3} - x^{2} z + 2 x^{2} + x y + x - 3$$"
      ],
      "text/plain": [
       " 3    2        2              \n",
       "x  - x ⋅z + 2⋅x  + x⋅y + x - 3"
      ]
     },
     "execution_count": 51,
     "metadata": {},
     "output_type": "execute_result"
    }
   ],
   "source": [
    "expr = x*y + x - 3 + 2*x**2 - z*x**2 + x**3\n",
    "expr"
   ]
  },
  {
   "cell_type": "code",
   "execution_count": 52,
   "metadata": {},
   "outputs": [
    {
     "data": {
      "image/png": "[encoded data removed]",
      "text/latex": [
       "$$x^{3} + x^{2} \\left(- z + 2\\right) + x \\left(y + 1\\right) - 3$$"
      ],
      "text/plain": [
       " 3    2                         \n",
       "x  + x ⋅(-z + 2) + x⋅(y + 1) - 3"
      ]
     },
     "execution_count": 52,
     "metadata": {},
     "output_type": "execute_result"
    }
   ],
   "source": [
    "col = collect(expr, x)\n",
    "col"
   ]
  },
  {
   "cell_type": "code",
   "execution_count": 53,
   "metadata": {},
   "outputs": [
    {
     "name": "stdout",
     "output_type": "stream",
     "text": [
      "-3\n",
      "y + 1\n",
      "-z + 2\n",
      "1\n"
     ]
    }
   ],
   "source": [
    "for c in (0,1,2,3):\n",
    "    print(col.coeff(x, c) )"
   ]
  },
  {
   "cell_type": "markdown",
   "metadata": {},
   "source": [
    "# cancel()\n",
    "\n",
    "Fraction semplification by cancellation and common denominator combination"
   ]
  },
  {
   "cell_type": "code",
   "execution_count": 54,
   "metadata": {},
   "outputs": [
    {
     "data": {
      "image/png": "[encoded data removed]",
      "text/latex": [
       "$$\\frac{x^{2} + 2 x + 1}{x^{2} + x}$$"
      ],
      "text/plain": [
       " 2          \n",
       "x  + 2⋅x + 1\n",
       "────────────\n",
       "    2       \n",
       "   x  + x   "
      ]
     },
     "execution_count": 54,
     "metadata": {},
     "output_type": "execute_result"
    }
   ],
   "source": [
    "(x**2 + 2*x + 1)/(x**2 + x)"
   ]
  },
  {
   "cell_type": "code",
   "execution_count": 55,
   "metadata": {},
   "outputs": [
    {
     "data": {
      "image/png": "[encoded data removed]",
      "text/latex": [
       "$$\\frac{x + 1}{x}$$"
      ],
      "text/plain": [
       "x + 1\n",
       "─────\n",
       "  x  "
      ]
     },
     "execution_count": 55,
     "metadata": {},
     "output_type": "execute_result"
    }
   ],
   "source": [
    "cancel((x**2 + 2*x + 1)/(x**2 + x))"
   ]
  },
  {
   "cell_type": "code",
   "execution_count": 56,
   "metadata": {},
   "outputs": [
    {
     "data": {
      "image/png": "[encoded data removed]",
      "text/latex": [
       "$$\\frac{\\frac{3 x}{2} - 2}{x - 4} + \\frac{1}{x}$$"
      ],
      "text/plain": [
       "3⋅x        \n",
       "─── - 2    \n",
       " 2        1\n",
       "─────── + ─\n",
       " x - 4    x"
      ]
     },
     "execution_count": 56,
     "metadata": {},
     "output_type": "execute_result"
    }
   ],
   "source": [
    "1/x + (3*x/2 - 2)/(x - 4)"
   ]
  },
  {
   "cell_type": "code",
   "execution_count": 57,
   "metadata": {},
   "outputs": [
    {
     "data": {
      "image/png": "[encoded data removed]",
      "text/latex": [
       "$$\\frac{3 x^{2} - 2 x - 8}{2 x^{2} - 8 x}$$"
      ],
      "text/plain": [
       "   2          \n",
       "3⋅x  - 2⋅x - 8\n",
       "──────────────\n",
       "     2        \n",
       "  2⋅x  - 8⋅x  "
      ]
     },
     "execution_count": 57,
     "metadata": {},
     "output_type": "execute_result"
    }
   ],
   "source": [
    "cancel(1/x + (3*x/2 - 2)/(x - 4))"
   ]
  },
  {
   "cell_type": "markdown",
   "metadata": {},
   "source": [
    "sometimes factor() does the same thing."
   ]
  },
  {
   "cell_type": "markdown",
   "metadata": {},
   "source": [
    "# apart()\n",
    "\n",
    "Perform partial fraction decomposition  (omitted)\n"
   ]
  },
  {
   "cell_type": "markdown",
   "metadata": {},
   "source": [
    "# Trigonometry\n",
    "\n",
    "Sympy uses standard python notation for trigs function"
   ]
  },
  {
   "cell_type": "code",
   "execution_count": 58,
   "metadata": {},
   "outputs": [
    {
     "data": {
      "image/png": "[encoded data removed]",
      "text/latex": [
       "$$\\frac{\\pi}{2}$$"
      ],
      "text/plain": [
       "π\n",
       "─\n",
       "2"
      ]
     },
     "execution_count": 58,
     "metadata": {},
     "output_type": "execute_result"
    }
   ],
   "source": [
    "asin(1)"
   ]
  },
  {
   "cell_type": "markdown",
   "metadata": {},
   "source": [
    "## trigonometric simplification: trigsimp()\n",
    "\n",
    "like simplify() but for trigonometric functions."
   ]
  },
  {
   "cell_type": "code",
   "execution_count": 59,
   "metadata": {},
   "outputs": [
    {
     "data": {
      "image/png": "[encoded data removed]",
      "text/latex": [
       "$$1$$"
      ],
      "text/plain": [
       "1"
      ]
     },
     "execution_count": 59,
     "metadata": {},
     "output_type": "execute_result"
    }
   ],
   "source": [
    "trigsimp(sin(x)**2 + cos(x)**2)"
   ]
  },
  {
   "cell_type": "code",
   "execution_count": 60,
   "metadata": {},
   "outputs": [
    {
     "data": {
      "image/png": "[encoded data removed]",
      "text/latex": [
       "$$\\frac{\\cos{\\left (4 x \\right )}}{2} + \\frac{1}{2}$$"
      ],
      "text/plain": [
       "cos(4⋅x)   1\n",
       "──────── + ─\n",
       "   2       2"
      ]
     },
     "execution_count": 60,
     "metadata": {},
     "output_type": "execute_result"
    }
   ],
   "source": [
    "trigsimp(sin(x)**4 - 2*cos(x)**2*sin(x)**2 + cos(x)**4)"
   ]
  },
  {
   "cell_type": "code",
   "execution_count": 61,
   "metadata": {},
   "outputs": [
    {
     "data": {
      "image/png": "[encoded data removed]",
      "text/latex": [
       "$$\\sin^{2}{\\left (x \\right )}$$"
      ],
      "text/plain": [
       "   2   \n",
       "sin (x)"
      ]
     },
     "execution_count": 61,
     "metadata": {},
     "output_type": "execute_result"
    }
   ],
   "source": [
    "trigsimp(sin(x)*tan(x)/sec(x))"
   ]
  },
  {
   "cell_type": "markdown",
   "metadata": {},
   "source": [
    "## expansion : expand_trig()\n",
    "\n",
    "Note: this will expand everywhere. If only a partial expansion is desired, consider an explicit use of subs."
   ]
  },
  {
   "cell_type": "code",
   "execution_count": 62,
   "metadata": {},
   "outputs": [
    {
     "data": {
      "image/png": "[encoded data removed]",
      "text/latex": [
       "$$\\sin{\\left (x \\right )} \\cos{\\left (y \\right )} + \\sin{\\left (y \\right )} \\cos{\\left (x \\right )}$$"
      ],
      "text/plain": [
       "sin(x)⋅cos(y) + sin(y)⋅cos(x)"
      ]
     },
     "execution_count": 62,
     "metadata": {},
     "output_type": "execute_result"
    }
   ],
   "source": [
    "expand_trig(sin(x + y))"
   ]
  },
  {
   "cell_type": "markdown",
   "metadata": {},
   "source": [
    "# Powers\n",
    "\n",
    "## power simplification: powsimp()"
   ]
  },
  {
   "cell_type": "code",
   "execution_count": 73,
   "metadata": {},
   "outputs": [
    {
     "data": {
      "image/png": "[encoded data removed]",
      "text/latex": [
       "$$x^{a} x^{b}$$"
      ],
      "text/plain": [
       " a  b\n",
       "x ⋅x "
      ]
     },
     "execution_count": 73,
     "metadata": {},
     "output_type": "execute_result"
    }
   ],
   "source": [
    "x**a*x**b\n"
   ]
  },
  {
   "cell_type": "code",
   "execution_count": 74,
   "metadata": {},
   "outputs": [
    {
     "data": {
      "image/png": "[encoded data removed]",
      "text/latex": [
       "$$x^{a + b}$$"
      ],
      "text/plain": [
       " a + b\n",
       "x     "
      ]
     },
     "execution_count": 74,
     "metadata": {},
     "output_type": "execute_result"
    }
   ],
   "source": [
    "powsimp(x**a*x**b)"
   ]
  },
  {
   "cell_type": "markdown",
   "metadata": {},
   "source": [
    "## power expansion: expand_power_exp() and expand_power_base()\n"
   ]
  },
  {
   "cell_type": "code",
   "execution_count": 78,
   "metadata": {},
   "outputs": [
    {
     "data": {
      "image/png": "[encoded data removed]",
      "text/latex": [
       "$$x^{a} x^{b}$$"
      ],
      "text/plain": [
       " a  b\n",
       "x ⋅x "
      ]
     },
     "execution_count": 78,
     "metadata": {},
     "output_type": "execute_result"
    }
   ],
   "source": [
    "expand_power_exp(x**(a+b))"
   ]
  },
  {
   "cell_type": "code",
   "execution_count": 79,
   "metadata": {},
   "outputs": [
    {
     "data": {
      "image/png": "[encoded data removed]",
      "text/latex": [
       "$$\\left(x y\\right)^{a}$$"
      ],
      "text/plain": [
       "     a\n",
       "(x⋅y) "
      ]
     },
     "execution_count": 79,
     "metadata": {},
     "output_type": "execute_result"
    }
   ],
   "source": [
    "expand_power_base((x*y)**a)  ##not working. should give x^a * y^a"
   ]
  },
  {
   "cell_type": "code",
   "execution_count": 80,
   "metadata": {},
   "outputs": [
    {
     "data": {
      "image/png": "[encoded data removed]",
      "text/latex": [
       "$$x^{a} y^{a}$$"
      ],
      "text/plain": [
       " a  a\n",
       "x ⋅y "
      ]
     },
     "execution_count": 80,
     "metadata": {},
     "output_type": "execute_result"
    }
   ],
   "source": [
    "expand_power_base((x*y)**a, force=True) #use more violence on assumptions"
   ]
  },
  {
   "cell_type": "markdown",
   "metadata": {},
   "source": [
    "# Exponentials and logarithms\n"
   ]
  },
  {
   "cell_type": "code",
   "execution_count": 81,
   "metadata": {},
   "outputs": [
    {
     "data": {
      "image/png": "[encoded data removed]",
      "text/latex": [
       "$$\\log{\\left (x \\right )}$$"
      ],
      "text/plain": [
       "log(x)"
      ]
     },
     "execution_count": 81,
     "metadata": {},
     "output_type": "execute_result"
    }
   ],
   "source": [
    "ln(x)"
   ]
  },
  {
   "cell_type": "markdown",
   "metadata": {},
   "source": [
    "Remember that you can specify assumptions when declaring Sympy Symbols:"
   ]
  },
  {
   "cell_type": "code",
   "execution_count": 84,
   "metadata": {},
   "outputs": [],
   "source": [
    "x, y = symbols('x y', positive=True)\n",
    "n = symbols(\"n\", real=True)\n",
    "z, t = symbols(\"z t\") #no assumption taken, for testing"
   ]
  },
  {
   "cell_type": "markdown",
   "metadata": {},
   "source": [
    "## expand_log()"
   ]
  },
  {
   "cell_type": "code",
   "execution_count": 85,
   "metadata": {},
   "outputs": [
    {
     "data": {
      "image/png": "[encoded data removed]",
      "text/latex": [
       "$$\\log{\\left (x \\right )} + \\log{\\left (y \\right )}$$"
      ],
      "text/plain": [
       "log(x) + log(y)"
      ]
     },
     "execution_count": 85,
     "metadata": {},
     "output_type": "execute_result"
    }
   ],
   "source": [
    "expand_log(log(x*y))"
   ]
  },
  {
   "cell_type": "code",
   "execution_count": 87,
   "metadata": {},
   "outputs": [
    {
     "data": {
      "image/png": "[encoded data removed]",
      "text/latex": [
       "$$\\log{\\left (x \\right )} - \\log{\\left (y \\right )}$$"
      ],
      "text/plain": [
       "log(x) - log(y)"
      ]
     },
     "execution_count": 87,
     "metadata": {},
     "output_type": "execute_result"
    }
   ],
   "source": [
    "expand_log(log(x/y))"
   ]
  },
  {
   "cell_type": "code",
   "execution_count": 88,
   "metadata": {},
   "outputs": [
    {
     "data": {
      "image/png": "[encoded data removed]",
      "text/latex": [
       "$$2 \\log{\\left (x \\right )}$$"
      ],
      "text/plain": [
       "2⋅log(x)"
      ]
     },
     "execution_count": 88,
     "metadata": {},
     "output_type": "execute_result"
    }
   ],
   "source": [
    "expand_log(log(x**2))"
   ]
  },
  {
   "cell_type": "code",
   "execution_count": 89,
   "metadata": {},
   "outputs": [
    {
     "data": {
      "image/png": "[encoded data removed]",
      "text/latex": [
       "$$n \\log{\\left (x \\right )}$$"
      ],
      "text/plain": [
       "n⋅log(x)"
      ]
     },
     "execution_count": 89,
     "metadata": {},
     "output_type": "execute_result"
    }
   ],
   "source": [
    "expand_log(log(x**n))"
   ]
  },
  {
   "cell_type": "code",
   "execution_count": 90,
   "metadata": {},
   "outputs": [
    {
     "data": {
      "image/png": "[encoded data removed]",
      "text/latex": [
       "$$\\log{\\left (t z \\right )}$$"
      ],
      "text/plain": [
       "log(t⋅z)"
      ]
     },
     "execution_count": 90,
     "metadata": {},
     "output_type": "execute_result"
    }
   ],
   "source": [
    "expand_log(log(z*t))   #remember: we took no assumptions for z and t..."
   ]
  },
  {
   "cell_type": "code",
   "execution_count": 91,
   "metadata": {},
   "outputs": [
    {
     "data": {
      "image/png": "[encoded data removed]",
      "text/latex": [
       "$$\\log{\\left (t \\right )} + \\log{\\left (z \\right )}$$"
      ],
      "text/plain": [
       "log(t) + log(z)"
      ]
     },
     "execution_count": 91,
     "metadata": {},
     "output_type": "execute_result"
    }
   ],
   "source": [
    "expand_log(log(z*t), force=True)  #..but you can force them."
   ]
  },
  {
   "cell_type": "markdown",
   "metadata": {},
   "source": [
    "# logcombine()\n",
    "inverse expansion"
   ]
  },
  {
   "cell_type": "code",
   "execution_count": 92,
   "metadata": {},
   "outputs": [
    {
     "data": {
      "image/png": "[encoded data removed]",
      "text/latex": [
       "$$\\log{\\left (x y \\right )}$$"
      ],
      "text/plain": [
       "log(x⋅y)"
      ]
     },
     "execution_count": 92,
     "metadata": {},
     "output_type": "execute_result"
    }
   ],
   "source": [
    "logcombine(log(x)+log(y))"
   ]
  },
  {
   "cell_type": "markdown",
   "metadata": {},
   "source": [
    "# Other special functions\n",
    "\n",
    "## factorials\n"
   ]
  },
  {
   "cell_type": "code",
   "execution_count": 93,
   "metadata": {},
   "outputs": [],
   "source": [
    "x, y, z = symbols('x y z')\n",
    "k, m, n = symbols('k m n')\n"
   ]
  },
  {
   "cell_type": "code",
   "execution_count": 94,
   "metadata": {},
   "outputs": [
    {
     "data": {
      "image/png": "[encoded data removed]",
      "text/latex": [
       "$$n!$$"
      ],
      "text/plain": [
       "n!"
      ]
     },
     "execution_count": 94,
     "metadata": {},
     "output_type": "execute_result"
    }
   ],
   "source": [
    "factorial(n)"
   ]
  },
  {
   "cell_type": "code",
   "execution_count": 96,
   "metadata": {},
   "outputs": [
    {
     "data": {
      "image/png": "[encoded data removed]",
      "text/latex": [
       "$$3628800$$"
      ],
      "text/plain": [
       "3628800"
      ]
     },
     "execution_count": 96,
     "metadata": {},
     "output_type": "execute_result"
    }
   ],
   "source": [
    "factorial(n).subs(n,10)"
   ]
  },
  {
   "cell_type": "markdown",
   "metadata": {},
   "source": [
    "## Binomial coefficients\n"
   ]
  },
  {
   "cell_type": "code",
   "execution_count": 100,
   "metadata": {},
   "outputs": [
    {
     "data": {
      "image/png": "[encoded data removed]",
      "text/latex": [
       "$${\\binom{n}{k}}$$"
      ],
      "text/plain": [
       "⎛n⎞\n",
       "⎜ ⎟\n",
       "⎝k⎠"
      ]
     },
     "execution_count": 100,
     "metadata": {},
     "output_type": "execute_result"
    }
   ],
   "source": [
    "binomial(n,k) #binomial function"
   ]
  },
  {
   "cell_type": "code",
   "execution_count": 101,
   "metadata": {},
   "outputs": [
    {
     "data": {
      "image/png": "[encoded data removed]",
      "text/latex": [
       "$$\\Gamma\\left(z\\right)$$"
      ],
      "text/plain": [
       "Γ(z)"
      ]
     },
     "execution_count": 101,
     "metadata": {},
     "output_type": "execute_result"
    }
   ],
   "source": [
    "gamma(z) #gamma function"
   ]
  },
  {
   "cell_type": "code",
   "execution_count": 102,
   "metadata": {},
   "outputs": [
    {
     "data": {
      "image/png": "[encoded data removed]",
      "text/latex": [
       "$${{}_{2}F_{1}\\left(\\begin{matrix} 1, 2 \\\\ 3 \\end{matrix}\\middle| {z} \\right)}$$"
      ],
      "text/plain": [
       " ┌─  ⎛1, 2 │  ⎞\n",
       " ├─  ⎜     │ z⎟\n",
       "2╵ 1 ⎝ 3   │  ⎠"
      ]
     },
     "execution_count": 102,
     "metadata": {},
     "output_type": "execute_result"
    }
   ],
   "source": [
    "hyper([1,2], [3], z)  #hypergeometric function"
   ]
  },
  {
   "cell_type": "markdown",
   "metadata": {},
   "source": [
    "## rewrite()\n",
    "\n",
    "rewrite a functions in terms of one another. \n",
    "Syntax: function.rewrite(another_function)"
   ]
  },
  {
   "cell_type": "code",
   "execution_count": 103,
   "metadata": {},
   "outputs": [
    {
     "data": {
      "image/png": "[encoded data removed]",
      "text/latex": [
       "$$\\frac{2 \\sin^{2}{\\left (x \\right )}}{\\sin{\\left (2 x \\right )}}$$"
      ],
      "text/plain": [
       "     2   \n",
       "2⋅sin (x)\n",
       "─────────\n",
       " sin(2⋅x)"
      ]
     },
     "execution_count": 103,
     "metadata": {},
     "output_type": "execute_result"
    }
   ],
   "source": [
    "tan(x).rewrite(sin)"
   ]
  },
  {
   "cell_type": "code",
   "execution_count": 104,
   "metadata": {},
   "outputs": [
    {
     "data": {
      "image/png": "[encoded data removed]",
      "text/latex": [
       "$$\\Gamma\\left(x + 1\\right)$$"
      ],
      "text/plain": [
       "Γ(x + 1)"
      ]
     },
     "execution_count": 104,
     "metadata": {},
     "output_type": "execute_result"
    }
   ],
   "source": [
    "factorial(x).rewrite(gamma)"
   ]
  },
  {
   "cell_type": "markdown",
   "metadata": {},
   "source": [
    "# Simplification of combinatory expressions: combsimp()"
   ]
  },
  {
   "cell_type": "code",
   "execution_count": 106,
   "metadata": {},
   "outputs": [
    {
     "data": {
      "image/png": "[encoded data removed]",
      "text/latex": [
       "$$n \\left(n - 2\\right) \\left(n - 1\\right)$$"
      ],
      "text/plain": [
       "n⋅(n - 2)⋅(n - 1)"
      ]
     },
     "execution_count": 106,
     "metadata": {},
     "output_type": "execute_result"
    }
   ],
   "source": [
    "n,k = symbols(\"n k\", integer=True)\n",
    "combsimp(factorial(n)/factorial(n-3))"
   ]
  },
  {
   "cell_type": "markdown",
   "metadata": {},
   "source": [
    "# Calculus\n",
    "\n",
    "## Derivatives: diff()"
   ]
  },
  {
   "cell_type": "code",
   "execution_count": 107,
   "metadata": {},
   "outputs": [],
   "source": [
    "x, y, z = symbols(\"x y z\")"
   ]
  },
  {
   "cell_type": "code",
   "execution_count": 108,
   "metadata": {},
   "outputs": [
    {
     "data": {
      "image/png": "[encoded data removed]",
      "text/latex": [
       "$$- \\sin{\\left (x \\right )}$$"
      ],
      "text/plain": [
       "-sin(x)"
      ]
     },
     "execution_count": 108,
     "metadata": {},
     "output_type": "execute_result"
    }
   ],
   "source": [
    "diff(cos(x), x)"
   ]
  },
  {
   "cell_type": "code",
   "execution_count": 109,
   "metadata": {},
   "outputs": [
    {
     "data": {
      "image/png": "[encoded data removed]",
      "text/latex": [
       "$$2 x e^{x^{2}}$$"
      ],
      "text/plain": [
       "     ⎛ 2⎞\n",
       "     ⎝x ⎠\n",
       "2⋅x⋅ℯ    "
      ]
     },
     "execution_count": 109,
     "metadata": {},
     "output_type": "execute_result"
    }
   ],
   "source": [
    "diff(exp(x**2), x)"
   ]
  },
  {
   "cell_type": "markdown",
   "metadata": {},
   "source": [
    "multiple derivatives: just pass additional derivation terms, or the number of derivations:"
   ]
  },
  {
   "cell_type": "code",
   "execution_count": 111,
   "metadata": {},
   "outputs": [
    {
     "data": {
      "image/png": "[encoded data removed]",
      "text/latex": [
       "$$24 x$$"
      ],
      "text/plain": [
       "24⋅x"
      ]
     },
     "execution_count": 111,
     "metadata": {},
     "output_type": "execute_result"
    }
   ],
   "source": [
    "diff(x**4, x, x, x)"
   ]
  },
  {
   "cell_type": "code",
   "execution_count": 112,
   "metadata": {},
   "outputs": [
    {
     "data": {
      "image/png": "[encoded data removed]",
      "text/latex": [
       "$$24 x$$"
      ],
      "text/plain": [
       "24⋅x"
      ]
     },
     "execution_count": 112,
     "metadata": {},
     "output_type": "execute_result"
    }
   ],
   "source": [
    "diff(x**4, x, 3)"
   ]
  },
  {
   "cell_type": "code",
   "execution_count": 113,
   "metadata": {},
   "outputs": [
    {
     "name": "stdout",
     "output_type": "stream",
     "text": [
      "4*x**3\n",
      "12*x**2\n",
      "24*x\n"
     ]
    }
   ],
   "source": [
    "for n in (1,2,3):\n",
    "    print(diff(x**4, x, n))"
   ]
  },
  {
   "cell_type": "markdown",
   "metadata": {},
   "source": [
    "derivatives with respect to more than one variable at once:\n"
   ]
  },
  {
   "cell_type": "code",
   "execution_count": 114,
   "metadata": {},
   "outputs": [],
   "source": [
    "expr = exp(x*y*z)"
   ]
  },
  {
   "cell_type": "code",
   "execution_count": 115,
   "metadata": {},
   "outputs": [
    {
     "data": {
      "image/png": "[encoded data removed]",
      "text/latex": [
       "$$x^{3} y^{2} \\left(x^{3} y^{3} z^{3} + 14 x^{2} y^{2} z^{2} + 52 x y z + 48\\right) e^{x y z}$$"
      ],
      "text/plain": [
       " 3  2 ⎛ 3  3  3       2  2  2                ⎞  x⋅y⋅z\n",
       "x ⋅y ⋅⎝x ⋅y ⋅z  + 14⋅x ⋅y ⋅z  + 52⋅x⋅y⋅z + 48⎠⋅ℯ     "
      ]
     },
     "execution_count": 115,
     "metadata": {},
     "output_type": "execute_result"
    }
   ],
   "source": [
    "diff(expr, x, y, y, z, z, z, z)"
   ]
  },
  {
   "cell_type": "code",
   "execution_count": 116,
   "metadata": {},
   "outputs": [
    {
     "data": {
      "image/png": "[encoded data removed]",
      "text/latex": [
       "$$x^{3} y^{2} \\left(x^{3} y^{3} z^{3} + 14 x^{2} y^{2} z^{2} + 52 x y z + 48\\right) e^{x y z}$$"
      ],
      "text/plain": [
       " 3  2 ⎛ 3  3  3       2  2  2                ⎞  x⋅y⋅z\n",
       "x ⋅y ⋅⎝x ⋅y ⋅z  + 14⋅x ⋅y ⋅z  + 52⋅x⋅y⋅z + 48⎠⋅ℯ     "
      ]
     },
     "execution_count": 116,
     "metadata": {},
     "output_type": "execute_result"
    }
   ],
   "source": [
    "diff(expr, x, y, 2, z, 4)"
   ]
  },
  {
   "cell_type": "markdown",
   "metadata": {},
   "source": [
    "alternative syntax, as a method:"
   ]
  },
  {
   "cell_type": "code",
   "execution_count": 117,
   "metadata": {},
   "outputs": [
    {
     "data": {
      "image/png": "[encoded data removed]",
      "text/latex": [
       "$$x^{3} y^{2} \\left(x^{3} y^{3} z^{3} + 14 x^{2} y^{2} z^{2} + 52 x y z + 48\\right) e^{x y z}$$"
      ],
      "text/plain": [
       " 3  2 ⎛ 3  3  3       2  2  2                ⎞  x⋅y⋅z\n",
       "x ⋅y ⋅⎝x ⋅y ⋅z  + 14⋅x ⋅y ⋅z  + 52⋅x⋅y⋅z + 48⎠⋅ℯ     "
      ]
     },
     "execution_count": 117,
     "metadata": {},
     "output_type": "execute_result"
    }
   ],
   "source": [
    "expr.diff(x, y, 2, z, 4)"
   ]
  },
  {
   "cell_type": "markdown",
   "metadata": {},
   "source": [
    "unevaluated derivatives: use Derivative class:"
   ]
  },
  {
   "cell_type": "code",
   "execution_count": 119,
   "metadata": {},
   "outputs": [
    {
     "data": {
      "image/png": "[encoded data removed]",
      "text/latex": [
       "$$\\frac{\\partial^{7}}{\\partial z^{4}\\partial y^{2}\\partial x} e^{x y z}$$"
      ],
      "text/plain": [
       "     7            \n",
       "    ∂     ⎛ x⋅y⋅z⎞\n",
       "──────────⎝ℯ     ⎠\n",
       "  4   2           \n",
       "∂z  ∂y  ∂x        "
      ]
     },
     "execution_count": 119,
     "metadata": {},
     "output_type": "execute_result"
    }
   ],
   "source": [
    "deriv = Derivative(expr, x, y, 2, z, 4)\n",
    "deriv"
   ]
  },
  {
   "cell_type": "markdown",
   "metadata": {},
   "source": [
    "that can be evaluated with .doit() method"
   ]
  },
  {
   "cell_type": "code",
   "execution_count": 120,
   "metadata": {},
   "outputs": [
    {
     "data": {
      "image/png": "[encoded data removed]",
      "text/latex": [
       "$$x^{3} y^{2} \\left(x^{3} y^{3} z^{3} + 14 x^{2} y^{2} z^{2} + 52 x y z + 48\\right) e^{x y z}$$"
      ],
      "text/plain": [
       " 3  2 ⎛ 3  3  3       2  2  2                ⎞  x⋅y⋅z\n",
       "x ⋅y ⋅⎝x ⋅y ⋅z  + 14⋅x ⋅y ⋅z  + 52⋅x⋅y⋅z + 48⎠⋅ℯ     "
      ]
     },
     "execution_count": 120,
     "metadata": {},
     "output_type": "execute_result"
    }
   ],
   "source": [
    "deriv.doit()"
   ]
  },
  {
   "cell_type": "raw",
   "metadata": {},
   "source": [
    "derivatives of unspecified orders can be created using (x, n), where n is the order of the derivative with respect to x"
   ]
  },
  {
   "cell_type": "code",
   "execution_count": 122,
   "metadata": {},
   "outputs": [
    {
     "data": {
      "image/png": "[encoded data removed]",
      "text/latex": [
       "$$\\frac{\\partial^{n}}{\\partial x^{n}} \\left(a x + b\\right)^{m}$$"
      ],
      "text/plain": [
       "  n            \n",
       " ∂ ⎛         m⎞\n",
       "───⎝(a⋅x + b) ⎠\n",
       "  n            \n",
       "∂x             "
      ]
     },
     "execution_count": 122,
     "metadata": {},
     "output_type": "execute_result"
    }
   ],
   "source": [
    "m, n, a, b = symbols(\"m n a b\")\n",
    "expr = (a*x + b)**m\n",
    "expr.diff((x,n))"
   ]
  },
  {
   "cell_type": "markdown",
   "metadata": {},
   "source": [
    "# Integrals\n",
    "\n",
    "to compute, use integrate(). Can be definite or indefinite."
   ]
  },
  {
   "cell_type": "code",
   "execution_count": 123,
   "metadata": {},
   "outputs": [
    {
     "data": {
      "image/png": "[encoded data removed]",
      "text/latex": [
       "$$\\sin{\\left (x \\right )}$$"
      ],
      "text/plain": [
       "sin(x)"
      ]
     },
     "execution_count": 123,
     "metadata": {},
     "output_type": "execute_result"
    }
   ],
   "source": [
    "integrate(cos(x), x)  #indefinite"
   ]
  },
  {
   "cell_type": "code",
   "execution_count": 128,
   "metadata": {},
   "outputs": [
    {
     "data": {
      "image/png": "[encoded data removed]",
      "text/latex": [
       "$$1$$"
      ],
      "text/plain": [
       "1"
      ]
     },
     "execution_count": 128,
     "metadata": {},
     "output_type": "execute_result"
    }
   ],
   "source": [
    "integrate(exp(-x), (x, 0, oo))  #definite. oo computes as infinite (looks like, after all..)"
   ]
  },
  {
   "cell_type": "markdown",
   "metadata": {},
   "source": [
    "multiple limits can be passed as tuples:"
   ]
  },
  {
   "cell_type": "code",
   "execution_count": 129,
   "metadata": {},
   "outputs": [
    {
     "data": {
      "image/png": "[encoded data removed]",
      "text/latex": [
       "$$\\infty \\int_{-\\infty}^{\\infty} \\operatorname{sign}{\\left (e^{- y^{2}} \\right )}\\, dy$$"
      ],
      "text/plain": [
       "  ∞               \n",
       "  ⌠               \n",
       "  ⎮      ⎛   2⎞   \n",
       "  ⎮      ⎜ -y ⎟   \n",
       "∞⋅⎮  sign⎝ℯ   ⎠ dy\n",
       "  ⌡               \n",
       "  -∞              "
      ]
     },
     "execution_count": 129,
     "metadata": {},
     "output_type": "execute_result"
    }
   ],
   "source": [
    "integrate(exp(x**2 - y**2), (x, -oo, oo), (y, -oo, oo))"
   ]
  },
  {
   "cell_type": "markdown",
   "metadata": {},
   "source": [
    "as for derivatives, unevaluated integrals can be evaluated later with doit() method."
   ]
  },
  {
   "cell_type": "code",
   "execution_count": 131,
   "metadata": {},
   "outputs": [
    {
     "data": {
      "image/png": "[encoded data removed]",
      "text/latex": [
       "$$\\int \\sin{\\left (x^{2} \\right )}\\, dx$$"
      ],
      "text/plain": [
       "⌠           \n",
       "⎮    ⎛ 2⎞   \n",
       "⎮ sin⎝x ⎠ dx\n",
       "⌡           "
      ]
     },
     "execution_count": 131,
     "metadata": {},
     "output_type": "execute_result"
    }
   ],
   "source": [
    "integ = Integral(sin(x**2), x)\n",
    "integ"
   ]
  },
  {
   "cell_type": "code",
   "execution_count": 132,
   "metadata": {},
   "outputs": [
    {
     "data": {
      "image/png": "[encoded data removed]",
      "text/latex": [
       "$$\\frac{3 \\sqrt{2} \\sqrt{\\pi} S\\left(\\frac{\\sqrt{2} x}{\\sqrt{\\pi}}\\right) \\Gamma\\left(\\frac{3}{4}\\right)}{8 \\Gamma\\left(\\frac{7}{4}\\right)}$$"
      ],
      "text/plain": [
       "                ⎛√2⋅x⎞       \n",
       "3⋅√2⋅√π⋅fresnels⎜────⎟⋅Γ(3/4)\n",
       "                ⎝ √π ⎠       \n",
       "─────────────────────────────\n",
       "           8⋅Γ(7/4)          "
      ]
     },
     "execution_count": 132,
     "metadata": {},
     "output_type": "execute_result"
    }
   ],
   "source": [
    "integ.doit()"
   ]
  },
  {
   "cell_type": "code",
   "execution_count": 134,
   "metadata": {},
   "outputs": [
    {
     "data": {
      "image/png": "[encoded data removed]",
      "text/latex": [
       "$$\\int_{0}^{\\infty} x^{y} e^{- x}\\, dx$$"
      ],
      "text/plain": [
       "∞          \n",
       "⌠          \n",
       "⎮  y  -x   \n",
       "⎮ x ⋅ℯ   dx\n",
       "⌡          \n",
       "0          "
      ]
     },
     "execution_count": 134,
     "metadata": {},
     "output_type": "execute_result"
    }
   ],
   "source": [
    "integ = Integral(x**y*exp(-x), (x, 0, oo))\n",
    "integ"
   ]
  },
  {
   "cell_type": "code",
   "execution_count": 135,
   "metadata": {},
   "outputs": [
    {
     "data": {
      "image/png": "[encoded data removed]",
      "text/latex": [
       "$$\\begin{cases} \\Gamma\\left(y + 1\\right) & \\text{for}\\: - \\Re{\\left(y\\right)} < 1 \\\\\\int_{0}^{\\infty} x^{y} e^{- x}\\, dx & \\text{otherwise} \\end{cases}$$"
      ],
      "text/plain": [
       "⎧ Γ(y + 1)    for -re(y) < 1\n",
       "⎪                           \n",
       "⎪∞                          \n",
       "⎪⌠                          \n",
       "⎨⎮  y  -x                   \n",
       "⎪⎮ x ⋅ℯ   dx    otherwise   \n",
       "⎪⌡                          \n",
       "⎪0                          \n",
       "⎩                           "
      ]
     },
     "execution_count": 135,
     "metadata": {},
     "output_type": "execute_result"
    }
   ],
   "source": [
    "integ.doit()"
   ]
  },
  {
   "cell_type": "markdown",
   "metadata": {},
   "source": [
    "# Limits: limit()\n",
    "\n",
    "syntax: limit(a,b,c) with a function evaluated for b that goes to c"
   ]
  },
  {
   "cell_type": "code",
   "execution_count": 137,
   "metadata": {},
   "outputs": [
    {
     "data": {
      "image/png": "[encoded data removed]",
      "text/latex": [
       "$$1$$"
      ],
      "text/plain": [
       "1"
      ]
     },
     "execution_count": 137,
     "metadata": {},
     "output_type": "execute_result"
    }
   ],
   "source": [
    "limit(sin(x)/x, x, 0)"
   ]
  },
  {
   "cell_type": "markdown",
   "metadata": {},
   "source": [
    "must be used in place of subs() when the point of evaluation is a singularity"
   ]
  },
  {
   "cell_type": "code",
   "execution_count": 138,
   "metadata": {},
   "outputs": [
    {
     "data": {
      "image/png": "[encoded data removed]",
      "text/latex": [
       "$$\\mathrm{NaN}$$"
      ],
      "text/plain": [
       "nan"
      ]
     },
     "execution_count": 138,
     "metadata": {},
     "output_type": "execute_result"
    }
   ],
   "source": [
    "expr = x**2/exp(x)\n",
    "expr.subs(x,oo)"
   ]
  },
  {
   "cell_type": "code",
   "execution_count": 139,
   "metadata": {},
   "outputs": [
    {
     "data": {
      "image/png": "[encoded data removed]",
      "text/latex": [
       "$$0$$"
      ],
      "text/plain": [
       "0"
      ]
     },
     "execution_count": 139,
     "metadata": {},
     "output_type": "execute_result"
    }
   ],
   "source": [
    "limit(expr, x, oo)"
   ]
  },
  {
   "cell_type": "markdown",
   "metadata": {},
   "source": [
    "Can also be left unevaluated, and evaluated later with .doit()"
   ]
  },
  {
   "cell_type": "code",
   "execution_count": 141,
   "metadata": {},
   "outputs": [
    {
     "data": {
      "image/png": "[encoded data removed]",
      "text/latex": [
       "$$\\lim_{x \\to 0^+}\\left(\\frac{\\cos{\\left (x \\right )} - 1}{x}\\right)$$"
      ],
      "text/plain": [
       "     ⎛cos(x) - 1⎞\n",
       " lim ⎜──────────⎟\n",
       "x─→0⁺⎝    x     ⎠"
      ]
     },
     "execution_count": 141,
     "metadata": {},
     "output_type": "execute_result"
    }
   ],
   "source": [
    "expr = Limit((cos(x)-1)/x, x, 0)\n",
    "expr"
   ]
  },
  {
   "cell_type": "code",
   "execution_count": 142,
   "metadata": {},
   "outputs": [
    {
     "data": {
      "image/png": "[encoded data removed]",
      "text/latex": [
       "$$0$$"
      ],
      "text/plain": [
       "0"
      ]
     },
     "execution_count": 142,
     "metadata": {},
     "output_type": "execute_result"
    }
   ],
   "source": [
    "expr.doit()"
   ]
  },
  {
   "cell_type": "markdown",
   "metadata": {},
   "source": [
    "Can be evaluated on one side only, passing \"+\" or \"-\" as an extra argument."
   ]
  },
  {
   "cell_type": "code",
   "execution_count": 143,
   "metadata": {},
   "outputs": [
    {
     "data": {
      "image/png": "[encoded data removed]",
      "text/latex": [
       "$$\\infty$$"
      ],
      "text/plain": [
       "∞"
      ]
     },
     "execution_count": 143,
     "metadata": {},
     "output_type": "execute_result"
    }
   ],
   "source": [
    "limit(1/x, x, 0, \"+\")"
   ]
  },
  {
   "cell_type": "code",
   "execution_count": 144,
   "metadata": {},
   "outputs": [
    {
     "data": {
      "image/png": "[encoded data removed]",
      "text/latex": [
       "$$-\\infty$$"
      ],
      "text/plain": [
       "-∞"
      ]
     },
     "execution_count": 144,
     "metadata": {},
     "output_type": "execute_result"
    }
   ],
   "source": [
    "limit (1/x, x, 0, \"-\")"
   ]
  },
  {
   "cell_type": "markdown",
   "metadata": {},
   "source": [
    "# Series expansion\n",
    "\n",
    "Sympy can compute series expansion of function around a point:\n",
    "O^n is the Landau order term at x = x0. Can be removed with .removeO()"
   ]
  },
  {
   "cell_type": "code",
   "execution_count": 145,
   "metadata": {},
   "outputs": [],
   "source": [
    "expr = exp(sin(x))"
   ]
  },
  {
   "cell_type": "code",
   "execution_count": 147,
   "metadata": {},
   "outputs": [
    {
     "data": {
      "image/png": "[encoded data removed]",
      "text/latex": [
       "$$1 + x + \\frac{x^{2}}{2} + O\\left(x^{4}\\right)$$"
      ],
      "text/plain": [
       "         2        \n",
       "        x     ⎛ 4⎞\n",
       "1 + x + ── + O⎝x ⎠\n",
       "        2         "
      ]
     },
     "execution_count": 147,
     "metadata": {},
     "output_type": "execute_result"
    }
   ],
   "source": [
    "expr.series(x,0,4)  #default power = 6, here is 4."
   ]
  },
  {
   "cell_type": "code",
   "execution_count": 149,
   "metadata": {},
   "outputs": [
    {
     "data": {
      "image/png": "[encoded data removed]",
      "text/latex": [
       "$$1 + x + \\frac{x^{2}}{2} - \\frac{x^{4}}{8} - \\frac{x^{5}}{15} + O\\left(x^{6}\\right)$$"
      ],
      "text/plain": [
       "         2    4    5        \n",
       "        x    x    x     ⎛ 6⎞\n",
       "1 + x + ── - ── - ── + O⎝x ⎠\n",
       "        2    8    15        "
      ]
     },
     "execution_count": 149,
     "metadata": {},
     "output_type": "execute_result"
    }
   ],
   "source": [
    "expr.series(x,0)"
   ]
  },
  {
   "cell_type": "code",
   "execution_count": 150,
   "metadata": {},
   "outputs": [
    {
     "data": {
      "image/png": "[encoded data removed]",
      "text/latex": [
       "$$\\frac{x^{2}}{2} + x + 1$$"
      ],
      "text/plain": [
       " 2        \n",
       "x         \n",
       "── + x + 1\n",
       "2         "
      ]
     },
     "execution_count": 150,
     "metadata": {},
     "output_type": "execute_result"
    }
   ],
   "source": [
    "expr.series(x,0,4).removeO()"
   ]
  },
  {
   "cell_type": "markdown",
   "metadata": {},
   "source": [
    "# Finite difference"
   ]
  },
  {
   "cell_type": "code",
   "execution_count": 151,
   "metadata": {},
   "outputs": [],
   "source": [
    "f, g = symbols(\"f g\", cls=Function)"
   ]
  },
  {
   "cell_type": "code",
   "execution_count": 152,
   "metadata": {},
   "outputs": [
    {
     "data": {
      "image/png": "[encoded data removed]",
      "text/latex": [
       "$$- f{\\left (x - \\frac{1}{2} \\right )} g{\\left (x - \\frac{1}{2} \\right )} + f{\\left (x + \\frac{1}{2} \\right )} g{\\left (x + \\frac{1}{2} \\right )}$$"
      ],
      "text/plain": [
       "-f(x - 1/2)⋅g(x - 1/2) + f(x + 1/2)⋅g(x + 1/2)"
      ]
     },
     "execution_count": 152,
     "metadata": {},
     "output_type": "execute_result"
    }
   ],
   "source": [
    "differentiate_finite(f(x)*g(x))"
   ]
  },
  {
   "cell_type": "code",
   "execution_count": 153,
   "metadata": {},
   "outputs": [
    {
     "data": {
      "image/png": "[encoded data removed]",
      "text/latex": [
       "$$\\left(- f{\\left (x - \\frac{1}{2} \\right )} + f{\\left (x + \\frac{1}{2} \\right )}\\right) g{\\left (x \\right )} + \\left(- g{\\left (x - \\frac{1}{2} \\right )} + g{\\left (x + \\frac{1}{2} \\right )}\\right) f{\\left (x \\right )}$$"
      ],
      "text/plain": [
       "(-f(x - 1/2) + f(x + 1/2))⋅g(x) + (-g(x - 1/2) + g(x + 1/2))⋅f(x)"
      ]
     },
     "execution_count": 153,
     "metadata": {},
     "output_type": "execute_result"
    }
   ],
   "source": [
    "differentiate_finite(f(x)*g(x), evaluate=True)"
   ]
  },
  {
   "cell_type": "markdown",
   "metadata": {},
   "source": [
    "if you already have a derivative, you can express it .as_finite_difference()"
   ]
  },
  {
   "cell_type": "code",
   "execution_count": 155,
   "metadata": {},
   "outputs": [
    {
     "data": {
      "image/png": "[encoded data removed]",
      "text/latex": [
       "$$- f{\\left (x - \\frac{1}{2} \\right )} + f{\\left (x + \\frac{1}{2} \\right )}$$"
      ],
      "text/plain": [
       "-f(x - 1/2) + f(x + 1/2)"
      ]
     },
     "execution_count": 155,
     "metadata": {},
     "output_type": "execute_result"
    }
   ],
   "source": [
    "f = Function(\"f\")\n",
    "dfdx = f(x).diff(x)\n",
    "dfdx.as_finite_difference()"
   ]
  },
  {
   "cell_type": "markdown",
   "metadata": {},
   "source": [
    "the first order derivative was approximated around x using a minimum number of points (2 for 1st order derivative) evaluated equidistantly using a step-size of 1.\n",
    "\n",
    "another way is to use apply_finite_diff(), that takes order,x_list,y_list, and x0 parameters:\n"
   ]
  },
  {
   "cell_type": "code",
   "execution_count": 156,
   "metadata": {},
   "outputs": [
    {
     "data": {
      "image/png": "[encoded data removed]",
      "text/latex": [
       "$$- \\frac{3 a}{20} - \\frac{b}{4} + \\frac{2 c}{5}$$"
      ],
      "text/plain": [
       "  3⋅a   b   2⋅c\n",
       "- ─── - ─ + ───\n",
       "   20   4    5 "
      ]
     },
     "execution_count": 156,
     "metadata": {},
     "output_type": "execute_result"
    }
   ],
   "source": [
    "x_list = [-3, 1, 2]\n",
    "y_list = symbols('a b c')\n",
    "apply_finite_diff(1, x_list, y_list, 0)"
   ]
  },
  {
   "cell_type": "markdown",
   "metadata": {},
   "source": [
    "# Solvers"
   ]
  },
  {
   "cell_type": "code",
   "execution_count": 158,
   "metadata": {},
   "outputs": [
    {
     "data": {
      "image/png": "[encoded data removed]",
      "text/latex": [
       "$$x = y$$"
      ],
      "text/plain": [
       "x = y"
      ]
     },
     "execution_count": 158,
     "metadata": {},
     "output_type": "execute_result"
    }
   ],
   "source": [
    "x,y,z = symbols('x y z')\n",
    "Eq(x,y)   # don't use \"x == y\" or \"x = y\""
   ]
  },
  {
   "cell_type": "code",
   "execution_count": 159,
   "metadata": {},
   "outputs": [
    {
     "data": {
      "image/png": "[encoded data removed]",
      "text/latex": [
       "$$\\left\\{-1, 1\\right\\}$$"
      ],
      "text/plain": [
       "{-1, 1}"
      ]
     },
     "execution_count": 159,
     "metadata": {},
     "output_type": "execute_result"
    }
   ],
   "source": [
    "solveset(Eq(x**2, 1), x)"
   ]
  },
  {
   "cell_type": "code",
   "execution_count": 160,
   "metadata": {},
   "outputs": [
    {
     "data": {
      "image/png": "[encoded data removed]",
      "text/latex": [
       "$$\\left\\{-1, 1\\right\\}$$"
      ],
      "text/plain": [
       "{-1, 1}"
      ]
     },
     "execution_count": 160,
     "metadata": {},
     "output_type": "execute_result"
    }
   ],
   "source": [
    "solveset(Eq(x**2 - 1, 0), x)"
   ]
  },
  {
   "cell_type": "code",
   "execution_count": 161,
   "metadata": {},
   "outputs": [
    {
     "data": {
      "image/png": "[encoded data removed]",
      "text/latex": [
       "$$\\left\\{-1, 1\\right\\}$$"
      ],
      "text/plain": [
       "{-1, 1}"
      ]
     },
     "execution_count": 161,
     "metadata": {},
     "output_type": "execute_result"
    }
   ],
   "source": [
    "solveset(x**2-1, x)  # assume \" = 0\""
   ]
  },
  {
   "cell_type": "markdown",
   "metadata": {},
   "source": [
    "## Algebrical solutions"
   ]
  },
  {
   "cell_type": "code",
   "execution_count": 162,
   "metadata": {},
   "outputs": [
    {
     "data": {
      "image/png": "[encoded data removed]",
      "text/latex": [
       "$$\\left\\{0, 1\\right\\}$$"
      ],
      "text/plain": [
       "{0, 1}"
      ]
     },
     "execution_count": 162,
     "metadata": {},
     "output_type": "execute_result"
    }
   ],
   "source": [
    "solveset(x**2 - x, x)"
   ]
  },
  {
   "cell_type": "code",
   "execution_count": 165,
   "metadata": {},
   "outputs": [
    {
     "data": {
      "image/png": "[encoded data removed]",
      "text/latex": [
       "$$\\mathbb{R}$$"
      ],
      "text/plain": [
       "ℝ"
      ]
     },
     "execution_count": 165,
     "metadata": {},
     "output_type": "execute_result"
    }
   ],
   "source": [
    "solveset(x -x, x, domain=S.Reals)"
   ]
  },
  {
   "cell_type": "code",
   "execution_count": 166,
   "metadata": {},
   "outputs": [
    {
     "data": {
      "image/png": "[encoded data removed]",
      "text/latex": [
       "$$\\left\\{2 n \\pi + \\frac{\\pi}{2}\\; |\\; n \\in \\mathbb{Z}\\right\\}$$"
      ],
      "text/plain": [
       "⎧        π        ⎫\n",
       "⎨2⋅n⋅π + ─ | n ∊ ℤ⎬\n",
       "⎩        2        ⎭"
      ]
     },
     "execution_count": 166,
     "metadata": {},
     "output_type": "execute_result"
    }
   ],
   "source": [
    "solveset(sin(x)-1, x, domain=S.Reals)"
   ]
  },
  {
   "cell_type": "code",
   "execution_count": 167,
   "metadata": {},
   "outputs": [
    {
     "data": {
      "image/png": "[encoded data removed]",
      "text/latex": [
       "$$\\emptyset$$"
      ],
      "text/plain": [
       "∅"
      ]
     },
     "execution_count": 167,
     "metadata": {},
     "output_type": "execute_result"
    }
   ],
   "source": [
    "solveset(exp(x), x)  # No solution exists"
   ]
  },
  {
   "cell_type": "code",
   "execution_count": 169,
   "metadata": {},
   "outputs": [
    {
     "data": {
      "image/png": "[encoded data removed]",
      "text/latex": [
       "$$\\left\\{x \\mid x \\in \\mathbb{C} \\wedge - x + \\cos{\\left (x \\right )} = 0 \\right\\}$$"
      ],
      "text/plain": [
       "{x | x ∊ ℂ ∧ -x + cos(x) = 0}"
      ]
     },
     "execution_count": 169,
     "metadata": {},
     "output_type": "execute_result"
    }
   ],
   "source": [
    "solveset(cos(x)-x, x)  # Unable to find solutions"
   ]
  },
  {
   "cell_type": "markdown",
   "metadata": {},
   "source": [
    "## Linear system of equation solutions: linsolve()\n",
    "\n",
    "1) as a list of equations:"
   ]
  },
  {
   "cell_type": "code",
   "execution_count": 171,
   "metadata": {},
   "outputs": [
    {
     "data": {
      "image/png": "[encoded data removed]",
      "text/latex": [
       "$$\\left\\{\\left ( - y - 1, \\quad y, \\quad 2\\right )\\right\\}$$"
      ],
      "text/plain": [
       "{(-y - 1, y, 2)}"
      ]
     },
     "execution_count": 171,
     "metadata": {},
     "output_type": "execute_result"
    }
   ],
   "source": [
    "linsolve([x+y+z-1,  x+y+2*z-3], (x,y,z))"
   ]
  },
  {
   "cell_type": "markdown",
   "metadata": {},
   "source": [
    "2) Augmented Matrix Form:"
   ]
  },
  {
   "cell_type": "code",
   "execution_count": 172,
   "metadata": {},
   "outputs": [
    {
     "data": {
      "image/png": "[encoded data removed]",
      "text/latex": [
       "$$\\left\\{\\left ( - y - 1, \\quad y, \\quad 2\\right )\\right\\}$$"
      ],
      "text/plain": [
       "{(-y - 1, y, 2)}"
      ]
     },
     "execution_count": 172,
     "metadata": {},
     "output_type": "execute_result"
    }
   ],
   "source": [
    "linsolve(Matrix(([1,1,1,1], [1,1,2,3])), (x,y,z))"
   ]
  },
  {
   "cell_type": "markdown",
   "metadata": {},
   "source": [
    "3. Ax=b form:"
   ]
  },
  {
   "cell_type": "code",
   "execution_count": 173,
   "metadata": {},
   "outputs": [
    {
     "data": {
      "image/png": "[encoded data removed]",
      "text/latex": [
       "$$\\left\\{\\left ( - y - 1, \\quad y, \\quad 2\\right )\\right\\}$$"
      ],
      "text/plain": [
       "{(-y - 1, y, 2)}"
      ]
     },
     "execution_count": 173,
     "metadata": {},
     "output_type": "execute_result"
    }
   ],
   "source": [
    "M = Matrix(((1,1,1,1), (1,1,2,3)))\n",
    "system = A, B = M[:,:-1], M[:,-1]\n",
    "linsolve(system, x, y, z)"
   ]
  },
  {
   "cell_type": "markdown",
   "metadata": {},
   "source": [
    "## Non-linear systems of equations: nonlinsolve()"
   ]
  },
  {
   "cell_type": "code",
   "execution_count": 174,
   "metadata": {},
   "outputs": [
    {
     "data": {
      "image/png": "[encoded data removed]",
      "text/latex": [
       "$$\\left\\{\\left ( -1, \\quad -1\\right ), \\left ( 0, \\quad 0\\right )\\right\\}$$"
      ],
      "text/plain": [
       "{(-1, -1), (0, 0)}"
      ]
     },
     "execution_count": 174,
     "metadata": {},
     "output_type": "execute_result"
    }
   ],
   "source": [
    "a, b, c, d = symbols('a, b, c, d', real=True)\n",
    "nonlinsolve([a**2 + a, a - b], [a, b])\n",
    "\n"
   ]
  },
  {
   "cell_type": "code",
   "execution_count": 175,
   "metadata": {},
   "outputs": [
    {
     "data": {
      "image/png": "[encoded data removed]",
      "text/latex": [
       "$$\\left\\{\\left ( 2, \\quad \\frac{1}{2}\\right )\\right\\}$$"
      ],
      "text/plain": [
       "{(2, 1/2)}"
      ]
     },
     "execution_count": 175,
     "metadata": {},
     "output_type": "execute_result"
    }
   ],
   "source": [
    "nonlinsolve([x*y - 1, x - 2], x, y)\n"
   ]
  },
  {
   "cell_type": "markdown",
   "metadata": {},
   "source": [
    "Only complex solutions present:"
   ]
  },
  {
   "cell_type": "code",
   "execution_count": 176,
   "metadata": {},
   "outputs": [
    {
     "data": {
      "image/png": "[encoded data removed]",
      "text/latex": [
       "$$\\left\\{\\left ( - i, \\quad - i\\right ), \\left ( - i, \\quad i\\right ), \\left ( i, \\quad - i\\right ), \\left ( i, \\quad i\\right )\\right\\}$$"
      ],
      "text/plain": [
       "{(-ⅈ, -ⅈ), (-ⅈ, ⅈ), (ⅈ, -ⅈ), (ⅈ, ⅈ)}"
      ]
     },
     "execution_count": 176,
     "metadata": {},
     "output_type": "execute_result"
    }
   ],
   "source": [
    "nonlinsolve([x**2 + 1, y**2 + 1], [x, y])"
   ]
  },
  {
   "cell_type": "markdown",
   "metadata": {},
   "source": [
    "# Differential equations"
   ]
  },
  {
   "cell_type": "code",
   "execution_count": 177,
   "metadata": {},
   "outputs": [
    {
     "data": {
      "image/png": "[encoded data removed]",
      "text/latex": [
       "$$f{\\left (x \\right )}$$"
      ],
      "text/plain": [
       "f(x)"
      ]
     },
     "execution_count": 177,
     "metadata": {},
     "output_type": "execute_result"
    }
   ],
   "source": [
    "f, g = symbols(\"f g\", cls=Function)\n",
    "f(x)"
   ]
  },
  {
   "cell_type": "code",
   "execution_count": 178,
   "metadata": {},
   "outputs": [
    {
     "data": {
      "image/png": "[encoded data removed]",
      "text/latex": [
       "$$\\frac{d}{d x} f{\\left (x \\right )}$$"
      ],
      "text/plain": [
       "d       \n",
       "──(f(x))\n",
       "dx      "
      ]
     },
     "execution_count": 178,
     "metadata": {},
     "output_type": "execute_result"
    }
   ],
   "source": [
    "f(x).diff(x)"
   ]
  },
  {
   "cell_type": "markdown",
   "metadata": {},
   "source": [
    "to represent f''(x)-2f'(x)+f(x)=sin(x) we should do:"
   ]
  },
  {
   "cell_type": "code",
   "execution_count": 180,
   "metadata": {},
   "outputs": [
    {
     "data": {
      "image/png": "[encoded data removed]",
      "text/latex": [
       "$$f{\\left (x \\right )} - 2 \\frac{d}{d x} f{\\left (x \\right )} + \\frac{d^{2}}{d x^{2}} f{\\left (x \\right )} = \\sin{\\left (x \\right )}$$"
      ],
      "text/plain": [
       "                      2               \n",
       "         d           d                \n",
       "f(x) - 2⋅──(f(x)) + ───(f(x)) = sin(x)\n",
       "         dx           2               \n",
       "                    dx                "
      ]
     },
     "execution_count": 180,
     "metadata": {},
     "output_type": "execute_result"
    }
   ],
   "source": [
    "diffeq = Eq(f(x).diff(x,2) - 2*f(x).diff(x) + f(x), sin(x))\n",
    "diffeq"
   ]
  },
  {
   "cell_type": "markdown",
   "metadata": {},
   "source": [
    "solution of ODE:"
   ]
  },
  {
   "cell_type": "code",
   "execution_count": 182,
   "metadata": {},
   "outputs": [
    {
     "data": {
      "image/png": "[encoded data removed]",
      "text/latex": [
       "$$f{\\left (x \\right )} = \\left(C_{1} + C_{2} x\\right) e^{x} + \\frac{\\cos{\\left (x \\right )}}{2}$$"
      ],
      "text/plain": [
       "                    x   cos(x)\n",
       "f(x) = (C₁ + C₂⋅x)⋅ℯ  + ──────\n",
       "                          2   "
      ]
     },
     "execution_count": 182,
     "metadata": {},
     "output_type": "execute_result"
    }
   ],
   "source": [
    "dsolve(diffeq,f(x))"
   ]
  },
  {
   "cell_type": "markdown",
   "metadata": {},
   "source": [
    "that gives an instance of Eq, as it is a general solution."
   ]
  },
  {
   "cell_type": "markdown",
   "metadata": {},
   "source": [
    "# Matrices\n",
    "\n",
    "Input: a list of row lists"
   ]
  },
  {
   "cell_type": "code",
   "execution_count": 186,
   "metadata": {},
   "outputs": [
    {
     "data": {
      "image/png": "[encoded data removed]",
      "text/latex": [
       "$$\\left[\\begin{matrix}1 & -1\\\\3 & 4\\\\0 & 2\\end{matrix}\\right]$$"
      ],
      "text/plain": [
       "⎡1  -1⎤\n",
       "⎢     ⎥\n",
       "⎢3  4 ⎥\n",
       "⎢     ⎥\n",
       "⎣0  2 ⎦"
      ]
     },
     "execution_count": 186,
     "metadata": {},
     "output_type": "execute_result"
    }
   ],
   "source": [
    "Matrix([[1,-1], [3,4], [0,2]])  # by rows"
   ]
  },
  {
   "cell_type": "code",
   "execution_count": 187,
   "metadata": {},
   "outputs": [
    {
     "data": {
      "image/png": "[encoded data removed]",
      "text/latex": [
       "$$\\left[\\begin{matrix}1\\\\2\\\\3\\end{matrix}\\right]$$"
      ],
      "text/plain": [
       "⎡1⎤\n",
       "⎢ ⎥\n",
       "⎢2⎥\n",
       "⎢ ⎥\n",
       "⎣3⎦"
      ]
     },
     "execution_count": 187,
     "metadata": {},
     "output_type": "execute_result"
    }
   ],
   "source": [
    "Matrix([1,2,3]) #a single element list is considered a column vector"
   ]
  },
  {
   "cell_type": "code",
   "execution_count": 188,
   "metadata": {},
   "outputs": [
    {
     "data": {
      "image/png": "[encoded data removed]",
      "text/latex": [
       "$$\\left[\\begin{matrix}5\\\\3\\end{matrix}\\right]$$"
      ],
      "text/plain": [
       "⎡5⎤\n",
       "⎢ ⎥\n",
       "⎣3⎦"
      ]
     },
     "execution_count": 188,
     "metadata": {},
     "output_type": "execute_result"
    }
   ],
   "source": [
    "M = Matrix([[1, 2, 3], [3, 2, 1]])\n",
    "N = Matrix([0, 1, 1])\n",
    "M*N\n"
   ]
  },
  {
   "cell_type": "code",
   "execution_count": 189,
   "metadata": {},
   "outputs": [
    {
     "data": {
      "image/png": "[encoded data removed]",
      "text/latex": [
       "$$\\left[\\begin{matrix}1 & 2 & 3\\\\3 & 2 & 1\\end{matrix}\\right]$$"
      ],
      "text/plain": [
       "⎡1  2  3⎤\n",
       "⎢       ⎥\n",
       "⎣3  2  1⎦"
      ]
     },
     "execution_count": 189,
     "metadata": {},
     "output_type": "execute_result"
    }
   ],
   "source": [
    "M"
   ]
  },
  {
   "cell_type": "code",
   "execution_count": 192,
   "metadata": {},
   "outputs": [
    {
     "data": {
      "image/png": "[encoded data removed]",
      "text/latex": [
       "$$\\left ( 2, \\quad 3\\right )$$"
      ],
      "text/plain": [
       "(2, 3)"
      ]
     },
     "execution_count": 192,
     "metadata": {},
     "output_type": "execute_result"
    }
   ],
   "source": [
    "M.shape   #note: no ()"
   ]
  },
  {
   "cell_type": "code",
   "execution_count": 194,
   "metadata": {},
   "outputs": [
    {
     "data": {
      "image/png": "[encoded data removed]",
      "text/latex": [
       "$$\\left[\\begin{matrix}1 & 2 & 3\\end{matrix}\\right]$$"
      ],
      "text/plain": [
       "[1  2  3]"
      ]
     },
     "execution_count": 194,
     "metadata": {},
     "output_type": "execute_result"
    }
   ],
   "source": [
    "M.row(0)"
   ]
  },
  {
   "cell_type": "code",
   "execution_count": 195,
   "metadata": {},
   "outputs": [
    {
     "data": {
      "image/png": "[encoded data removed]",
      "text/latex": [
       "$$\\left[\\begin{matrix}3\\\\1\\end{matrix}\\right]$$"
      ],
      "text/plain": [
       "⎡3⎤\n",
       "⎢ ⎥\n",
       "⎣1⎦"
      ]
     },
     "execution_count": 195,
     "metadata": {},
     "output_type": "execute_result"
    }
   ],
   "source": [
    "M.col(-1)"
   ]
  },
  {
   "cell_type": "code",
   "execution_count": 196,
   "metadata": {},
   "outputs": [
    {
     "data": {
      "image/png": "[encoded data removed]",
      "text/latex": [
       "$$\\left[\\begin{matrix}1 & 3\\\\2 & 2\\\\3 & 1\\end{matrix}\\right]$$"
      ],
      "text/plain": [
       "⎡1  3⎤\n",
       "⎢    ⎥\n",
       "⎢2  2⎥\n",
       "⎢    ⎥\n",
       "⎣3  1⎦"
      ]
     },
     "execution_count": 196,
     "metadata": {},
     "output_type": "execute_result"
    }
   ],
   "source": [
    "M.T  # Transpose"
   ]
  },
  {
   "cell_type": "code",
   "execution_count": 197,
   "metadata": {},
   "outputs": [
    {
     "data": {
      "image/png": "[encoded data removed]",
      "text/latex": [
       "$$\\left[\\begin{matrix}1 & 0 & 0\\\\0 & 1 & 0\\\\0 & 0 & 1\\end{matrix}\\right]$$"
      ],
      "text/plain": [
       "⎡1  0  0⎤\n",
       "⎢       ⎥\n",
       "⎢0  1  0⎥\n",
       "⎢       ⎥\n",
       "⎣0  0  1⎦"
      ]
     },
     "execution_count": 197,
     "metadata": {},
     "output_type": "execute_result"
    }
   ],
   "source": [
    "eye(3)"
   ]
  },
  {
   "cell_type": "code",
   "execution_count": 198,
   "metadata": {},
   "outputs": [
    {
     "data": {
      "image/png": "[encoded data removed]",
      "text/latex": [
       "$$\\left[\\begin{matrix}0 & 0 & 0 & 0\\\\0 & 0 & 0 & 0\\\\0 & 0 & 0 & 0\\\\0 & 0 & 0 & 0\\end{matrix}\\right]$$"
      ],
      "text/plain": [
       "⎡0  0  0  0⎤\n",
       "⎢          ⎥\n",
       "⎢0  0  0  0⎥\n",
       "⎢          ⎥\n",
       "⎢0  0  0  0⎥\n",
       "⎢          ⎥\n",
       "⎣0  0  0  0⎦"
      ]
     },
     "execution_count": 198,
     "metadata": {},
     "output_type": "execute_result"
    }
   ],
   "source": [
    "zeros(4)"
   ]
  },
  {
   "cell_type": "code",
   "execution_count": 199,
   "metadata": {},
   "outputs": [
    {
     "data": {
      "image/png": "[encoded data removed]",
      "text/latex": [
       "$$\\left[\\begin{matrix}1 & 1 & 1\\\\1 & 1 & 1\\end{matrix}\\right]$$"
      ],
      "text/plain": [
       "⎡1  1  1⎤\n",
       "⎢       ⎥\n",
       "⎣1  1  1⎦"
      ]
     },
     "execution_count": 199,
     "metadata": {},
     "output_type": "execute_result"
    }
   ],
   "source": [
    "ones(2,3)"
   ]
  },
  {
   "cell_type": "code",
   "execution_count": 200,
   "metadata": {},
   "outputs": [
    {
     "data": {
      "image/png": "[encoded data removed]",
      "text/latex": [
       "$$\\left[\\begin{matrix}4 & 0 & 0\\\\0 & 2 & 0\\\\0 & 0 & 5\\end{matrix}\\right]$$"
      ],
      "text/plain": [
       "⎡4  0  0⎤\n",
       "⎢       ⎥\n",
       "⎢0  2  0⎥\n",
       "⎢       ⎥\n",
       "⎣0  0  5⎦"
      ]
     },
     "execution_count": 200,
     "metadata": {},
     "output_type": "execute_result"
    }
   ],
   "source": [
    "diag(4,2,5)"
   ]
  },
  {
   "cell_type": "code",
   "execution_count": 204,
   "metadata": {},
   "outputs": [
    {
     "data": {
      "image/png": "[encoded data removed]",
      "text/latex": [
       "$$\\left[\\begin{matrix}1 & 1 & 0 & 0 & 0 & 0 & 0 & 0 & 0\\\\1 & 1 & 0 & 0 & 0 & 0 & 0 & 0 & 0\\\\0 & 0 & 2 & 3 & -1 & 6 & 0 & 0 & 0\\\\0 & 0 & 0 & 0 & 0 & 0 & 4 & 0 & 0\\\\0 & 0 & 0 & 0 & 0 & 0 & 0 & 4 & 0\\\\0 & 0 & 0 & 0 & 0 & 0 & 0 & 0 & 4\\end{matrix}\\right]$$"
      ],
      "text/plain": [
       "⎡1  1  0  0  0   0  0  0  0⎤\n",
       "⎢                          ⎥\n",
       "⎢1  1  0  0  0   0  0  0  0⎥\n",
       "⎢                          ⎥\n",
       "⎢0  0  2  3  -1  6  0  0  0⎥\n",
       "⎢                          ⎥\n",
       "⎢0  0  0  0  0   0  4  0  0⎥\n",
       "⎢                          ⎥\n",
       "⎢0  0  0  0  0   0  0  4  0⎥\n",
       "⎢                          ⎥\n",
       "⎣0  0  0  0  0   0  0  0  4⎦"
      ]
     },
     "execution_count": 204,
     "metadata": {},
     "output_type": "execute_result"
    }
   ],
   "source": [
    "diag(ones(2), Matrix([[2,3,-1,6]]), diag(4,4,4))"
   ]
  },
  {
   "cell_type": "code",
   "execution_count": 208,
   "metadata": {},
   "outputs": [
    {
     "data": {
      "image/png": "[encoded data removed]",
      "text/latex": [
       "$$\\left[\\begin{matrix}1 & 0 & 1\\\\2 & -1 & 3\\\\4 & 3 & 2\\end{matrix}\\right]$$"
      ],
      "text/plain": [
       "⎡1  0   1⎤\n",
       "⎢        ⎥\n",
       "⎢2  -1  3⎥\n",
       "⎢        ⎥\n",
       "⎣4  3   2⎦"
      ]
     },
     "execution_count": 208,
     "metadata": {},
     "output_type": "execute_result"
    }
   ],
   "source": [
    "M = Matrix([[1, 0, 1], [2, -1, 3], [4, 3, 2]])\n",
    "M"
   ]
  },
  {
   "cell_type": "code",
   "execution_count": 209,
   "metadata": {},
   "outputs": [
    {
     "data": {
      "image/png": "[encoded data removed]",
      "text/latex": [
       "$$-1$$"
      ],
      "text/plain": [
       "-1"
      ]
     },
     "execution_count": 209,
     "metadata": {},
     "output_type": "execute_result"
    }
   ],
   "source": [
    "M.det()"
   ]
  },
  {
   "cell_type": "code",
   "execution_count": 210,
   "metadata": {},
   "outputs": [
    {
     "data": {
      "image/png": "[encoded data removed]",
      "text/latex": [
       "$$\\left[\\begin{matrix}1 & 0 & 1 & 3\\\\2 & 3 & 4 & 7\\\\-1 & -3 & -3 & -4\\end{matrix}\\right]$$"
      ],
      "text/plain": [
       "⎡1   0   1   3 ⎤\n",
       "⎢              ⎥\n",
       "⎢2   3   4   7 ⎥\n",
       "⎢              ⎥\n",
       "⎣-1  -3  -3  -4⎦"
      ]
     },
     "execution_count": 210,
     "metadata": {},
     "output_type": "execute_result"
    }
   ],
   "source": [
    "M = Matrix([[1, 0, 1, 3], [2, 3, 4, 7], [-1, -3, -3, -4]])\n",
    "M"
   ]
  },
  {
   "cell_type": "code",
   "execution_count": 211,
   "metadata": {},
   "outputs": [
    {
     "data": {
      "image/png": "[encoded data removed]",
      "text/latex": [
       "$$\\left ( \\left[\\begin{matrix}1 & 0 & 1 & 3\\\\0 & 1 & \\frac{2}{3} & \\frac{1}{3}\\\\0 & 0 & 0 & 0\\end{matrix}\\right], \\quad \\left ( 0, \\quad 1\\right )\\right )$$"
      ],
      "text/plain": [
       "⎛⎡1  0   1    3 ⎤        ⎞\n",
       "⎜⎢              ⎥        ⎟\n",
       "⎜⎢0  1  2/3  1/3⎥, (0, 1)⎟\n",
       "⎜⎢              ⎥        ⎟\n",
       "⎝⎣0  0   0    0 ⎦        ⎠"
      ]
     },
     "execution_count": 211,
     "metadata": {},
     "output_type": "execute_result"
    }
   ],
   "source": [
    "M.rref()  #Reduced Echelon Form, return (matrix, tuple)"
   ]
  },
  {
   "cell_type": "code",
   "execution_count": 212,
   "metadata": {},
   "outputs": [
    {
     "data": {
      "image/png": "[encoded data removed]",
      "text/latex": [
       "$$\\left [ \\left[\\begin{matrix}-15\\\\6\\\\1\\\\0\\\\0\\end{matrix}\\right], \\quad \\left[\\begin{matrix}0\\\\0\\\\0\\\\1\\\\0\\end{matrix}\\right], \\quad \\left[\\begin{matrix}1\\\\- \\frac{1}{2}\\\\0\\\\0\\\\1\\end{matrix}\\right]\\right ]$$"
      ],
      "text/plain": [
       "⎡⎡-15⎤  ⎡0⎤  ⎡ 1  ⎤⎤\n",
       "⎢⎢   ⎥  ⎢ ⎥  ⎢    ⎥⎥\n",
       "⎢⎢ 6 ⎥  ⎢0⎥  ⎢-1/2⎥⎥\n",
       "⎢⎢   ⎥  ⎢ ⎥  ⎢    ⎥⎥\n",
       "⎢⎢ 1 ⎥, ⎢0⎥, ⎢ 0  ⎥⎥\n",
       "⎢⎢   ⎥  ⎢ ⎥  ⎢    ⎥⎥\n",
       "⎢⎢ 0 ⎥  ⎢1⎥  ⎢ 0  ⎥⎥\n",
       "⎢⎢   ⎥  ⎢ ⎥  ⎢    ⎥⎥\n",
       "⎣⎣ 0 ⎦  ⎣0⎦  ⎣ 1  ⎦⎦"
      ]
     },
     "execution_count": 212,
     "metadata": {},
     "output_type": "execute_result"
    }
   ],
   "source": [
    "M = Matrix([[1, 2, 3, 0, 0], [4, 10, 0, 0, 1]])\n",
    "M.nullspace()"
   ]
  },
  {
   "cell_type": "code",
   "execution_count": 213,
   "metadata": {},
   "outputs": [
    {
     "data": {
      "image/png": "[encoded data removed]",
      "text/latex": [
       "$$\\left [ \\left[\\begin{matrix}1\\\\2\\\\3\\end{matrix}\\right], \\quad \\left[\\begin{matrix}1\\\\1\\\\1\\end{matrix}\\right]\\right ]$$"
      ],
      "text/plain": [
       "⎡⎡1⎤  ⎡1⎤⎤\n",
       "⎢⎢ ⎥  ⎢ ⎥⎥\n",
       "⎢⎢2⎥, ⎢1⎥⎥\n",
       "⎢⎢ ⎥  ⎢ ⎥⎥\n",
       "⎣⎣3⎦  ⎣1⎦⎦"
      ]
     },
     "execution_count": 213,
     "metadata": {},
     "output_type": "execute_result"
    }
   ],
   "source": [
    "M = Matrix([[1, 1, 2], [2 ,1 , 3], [3 , 1, 4]])\n",
    "M.columnspace()"
   ]
  },
  {
   "cell_type": "code",
   "execution_count": 215,
   "metadata": {},
   "outputs": [
    {
     "data": {
      "image/png": "[encoded data removed]",
      "text/latex": [
       "$$\\left \\{ -2 : 1, \\quad 3 : 1, \\quad 5 : 2\\right \\}$$"
      ],
      "text/plain": [
       "{-2: 1, 3: 1, 5: 2}"
      ]
     },
     "execution_count": 215,
     "metadata": {},
     "output_type": "execute_result"
    }
   ],
   "source": [
    "M = Matrix([[3, -2,  4, -2], [5,  3, -3, -2], [5, -2,  2, -2], [5, -2, -3,  3]])\n",
    "M.eigenvals()\n",
    "\n",
    "#returns \"eigenval : algebraic multiplicity\" couples"
   ]
  },
  {
   "cell_type": "code",
   "execution_count": 216,
   "metadata": {},
   "outputs": [
    {
     "data": {
      "image/png": "[encoded data removed]",
      "text/latex": [
       "$$\\left [ \\left ( -2, \\quad 1, \\quad \\left [ \\left[\\begin{matrix}0\\\\1\\\\1\\\\1\\end{matrix}\\right]\\right ]\\right ), \\quad \\left ( 3, \\quad 1, \\quad \\left [ \\left[\\begin{matrix}1\\\\1\\\\1\\\\1\\end{matrix}\\right]\\right ]\\right ), \\quad \\left ( 5, \\quad 2, \\quad \\left [ \\left[\\begin{matrix}1\\\\1\\\\1\\\\0\\end{matrix}\\right], \\quad \\left[\\begin{matrix}0\\\\-1\\\\0\\\\1\\end{matrix}\\right]\\right ]\\right )\\right ]$$"
      ],
      "text/plain": [
       "⎡⎛       ⎡⎡0⎤⎤⎞  ⎛      ⎡⎡1⎤⎤⎞  ⎛      ⎡⎡1⎤  ⎡0 ⎤⎤⎞⎤\n",
       "⎢⎜       ⎢⎢ ⎥⎥⎟  ⎜      ⎢⎢ ⎥⎥⎟  ⎜      ⎢⎢ ⎥  ⎢  ⎥⎥⎟⎥\n",
       "⎢⎜       ⎢⎢1⎥⎥⎟  ⎜      ⎢⎢1⎥⎥⎟  ⎜      ⎢⎢1⎥  ⎢-1⎥⎥⎟⎥\n",
       "⎢⎜-2, 1, ⎢⎢ ⎥⎥⎟, ⎜3, 1, ⎢⎢ ⎥⎥⎟, ⎜5, 2, ⎢⎢ ⎥, ⎢  ⎥⎥⎟⎥\n",
       "⎢⎜       ⎢⎢1⎥⎥⎟  ⎜      ⎢⎢1⎥⎥⎟  ⎜      ⎢⎢1⎥  ⎢0 ⎥⎥⎟⎥\n",
       "⎢⎜       ⎢⎢ ⎥⎥⎟  ⎜      ⎢⎢ ⎥⎥⎟  ⎜      ⎢⎢ ⎥  ⎢  ⎥⎥⎟⎥\n",
       "⎣⎝       ⎣⎣1⎦⎦⎠  ⎝      ⎣⎣1⎦⎦⎠  ⎝      ⎣⎣0⎦  ⎣1 ⎦⎦⎠⎦"
      ]
     },
     "execution_count": 216,
     "metadata": {},
     "output_type": "execute_result"
    }
   ],
   "source": [
    "M.eigenvects()\n",
    "# returns (eigenvalue:alg. multiplicity, [eigenvetors])"
   ]
  },
  {
   "cell_type": "code",
   "execution_count": 218,
   "metadata": {},
   "outputs": [
    {
     "data": {
      "image/png": "[encoded data removed]",
      "text/latex": [
       "$$\\left ( \\left[\\begin{matrix}0 & 1 & 1 & 0\\\\1 & 1 & 1 & -1\\\\1 & 1 & 1 & 0\\\\1 & 1 & 0 & 1\\end{matrix}\\right], \\quad \\left[\\begin{matrix}-2 & 0 & 0 & 0\\\\0 & 3 & 0 & 0\\\\0 & 0 & 5 & 0\\\\0 & 0 & 0 & 5\\end{matrix}\\right]\\right )$$"
      ],
      "text/plain": [
       "⎛⎡0  1  1  0 ⎤  ⎡-2  0  0  0⎤⎞\n",
       "⎜⎢           ⎥  ⎢           ⎥⎟\n",
       "⎜⎢1  1  1  -1⎥  ⎢0   3  0  0⎥⎟\n",
       "⎜⎢           ⎥, ⎢           ⎥⎟\n",
       "⎜⎢1  1  1  0 ⎥  ⎢0   0  5  0⎥⎟\n",
       "⎜⎢           ⎥  ⎢           ⎥⎟\n",
       "⎝⎣1  1  0  1 ⎦  ⎣0   0  0  5⎦⎠"
      ]
     },
     "execution_count": 218,
     "metadata": {},
     "output_type": "execute_result"
    }
   ],
   "source": [
    "P,D = M.diagonalize()\n",
    "P,D"
   ]
  },
  {
   "cell_type": "code",
   "execution_count": 219,
   "metadata": {},
   "outputs": [
    {
     "data": {
      "image/png": "[encoded data removed]",
      "text/latex": [
       "$$\\left[\\begin{matrix}3 & -2 & 4 & -2\\\\5 & 3 & -3 & -2\\\\5 & -2 & 2 & -2\\\\5 & -2 & -3 & 3\\end{matrix}\\right]$$"
      ],
      "text/plain": [
       "⎡3  -2  4   -2⎤\n",
       "⎢             ⎥\n",
       "⎢5  3   -3  -2⎥\n",
       "⎢             ⎥\n",
       "⎢5  -2  2   -2⎥\n",
       "⎢             ⎥\n",
       "⎣5  -2  -3  3 ⎦"
      ]
     },
     "execution_count": 219,
     "metadata": {},
     "output_type": "execute_result"
    }
   ],
   "source": [
    "P*D*P**-1"
   ]
  },
  {
   "cell_type": "code",
   "execution_count": 220,
   "metadata": {},
   "outputs": [
    {
     "data": {
      "text/plain": [
       "True"
      ]
     },
     "execution_count": 220,
     "metadata": {},
     "output_type": "execute_result"
    }
   ],
   "source": [
    "P*D*P**-1 == M"
   ]
  },
  {
   "cell_type": "markdown",
   "metadata": {},
   "source": [
    "NOTE: \"lambda\" is a reserved keyword in Python. To print lambda symbol just use \"lamda\", without the b"
   ]
  },
  {
   "cell_type": "code",
   "execution_count": 223,
   "metadata": {},
   "outputs": [
    {
     "data": {
      "image/png": "[encoded data removed]",
      "text/latex": [
       "$$\\left(\\lambda - 5\\right)^{2} \\left(\\lambda - 3\\right) \\left(\\lambda + 2\\right)$$"
      ],
      "text/plain": [
       "       2                \n",
       "(λ - 5) ⋅(λ - 3)⋅(λ + 2)"
      ]
     },
     "execution_count": 223,
     "metadata": {},
     "output_type": "execute_result"
    }
   ],
   "source": [
    "lamda = symbols(\"lamda\")\n",
    "p = M.charpoly(lamda)  #characteristic polynomial\n",
    "factor(p)"
   ]
  },
  {
   "cell_type": "code",
   "execution_count": null,
   "metadata": {},
   "outputs": [],
   "source": []
  }
 ],
 "metadata": {
  "kernelspec": {
   "display_name": "Python 3",
   "language": "python",
   "name": "python3"
  },
  "language_info": {
   "codemirror_mode": {
    "name": "ipython",
    "version": 3
   },
   "file_extension": ".py",
   "mimetype": "text/x-python",
   "name": "python",
   "nbconvert_exporter": "python",
   "pygments_lexer": "ipython3",
   "version": "3.7.0"
  }
 },
 "nbformat": 4,
 "nbformat_minor": 2
}
